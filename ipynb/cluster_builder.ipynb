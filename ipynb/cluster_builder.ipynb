{
 "metadata": {
  "name": ""
 },
 "nbformat": 3,
 "nbformat_minor": 0,
 "worksheets": [
  {
   "cells": [
    {
     "cell_type": "markdown",
     "metadata": {},
     "source": [
      "# Basic transmission tree builder\n",
      "\n",
      "* Caitlin Rivers\n",
      "\n",
      "* Virginia Bioinformatics Institute at Virginia Tech\n",
      "\n",
      "* cmrivers@vbi.vt.edu\n",
      "\n",
      "-------\n",
      "\n",
      "Given a line listing with dates and basic information about cluster membership, this script will estimate who transmitted an infectious disease to whom based on case onset dates.\n",
      "\n",
      "Wish list for improvements:\n",
      "\n",
      "* Make algorithm that determines who infected whom more sophisticated.\n",
      "\n",
      "* Find a way to keep single cases (e.g. those not part of a cluster) in the data set so they can be plotted on the casetree.\n",
      "\n",
      "* Fix plot_cluster() function so it is functional."
     ]
    },
    {
     "cell_type": "code",
     "collapsed": false,
     "input": [
      "from matplotlib import pyplot as plt\n",
      "import numpy as np\n",
      "from datetime import datetime, timedelta\n",
      "import pandas as pd\n",
      "from itertools import cycle\n",
      "\n",
      "try:\n",
      "    from mpltools import style\n",
      "    style.use('ggplot')\n",
      "except:\n",
      "    pass"
     ],
     "language": "python",
     "metadata": {},
     "outputs": [],
     "prompt_number": 45
    },
    {
     "cell_type": "code",
     "collapsed": false,
     "input": [
      "def date_convert(x):\n",
      "    \"\"\" Convert dates to datetime object\n",
      "    \"\"\"\n",
      "    try:\n",
      "        y = datetime.strptime(x, \"%Y-%m-%d\")\n",
      "    except:\n",
      "        y = np.nan\n",
      "        \n",
      "    return y"
     ],
     "language": "python",
     "metadata": {},
     "outputs": [],
     "prompt_number": 2
    },
    {
     "cell_type": "markdown",
     "metadata": {},
     "source": [
      "Data (from 2013 MERS outbreak) are available in cmrivers/epipy repo on Github."
     ]
    },
    {
     "cell_type": "code",
     "collapsed": false,
     "input": [
      "dat = pd.read_csv(\"../Line list & epi stats - Line list.csv\", parse_dates=True)\n",
      "dat['Cluster ID'] = dat['Cluster ID'].replace(np.nan, 'single')\n",
      "dat.index = dat['Cluster ID']"
     ],
     "language": "python",
     "metadata": {},
     "outputs": [],
     "prompt_number": 3
    },
    {
     "cell_type": "code",
     "collapsed": false,
     "input": [
      "dat"
     ],
     "language": "python",
     "metadata": {},
     "outputs": [
      {
       "html": [
        "<pre>\n",
        "&lt;class 'pandas.core.frame.DataFrame'&gt;\n",
        "Index: 182 entries, hospital A to single\n",
        "Data columns (total 14 columns):\n",
        "Case #                      181  non-null values\n",
        "Approx onset date           80  non-null values\n",
        "Approx reporting date       103  non-null values\n",
        "Age                         172  non-null values\n",
        "Sex                         159  non-null values\n",
        "Probable infection place    180  non-null values\n",
        "Health status               178  non-null values\n",
        "Approx death date           42  non-null values\n",
        "Region                      130  non-null values\n",
        "HCW                         26  non-null values\n",
        "Reported comorbidities      88  non-null values\n",
        "Cluster ID                  182  non-null values\n",
        "Notes                       33  non-null values\n",
        " Zoonotic                   154  non-null values\n",
        "dtypes: float64(2), object(12)\n",
        "</pre>"
       ],
       "metadata": {},
       "output_type": "pyout",
       "prompt_number": 4,
       "text": [
        "<class 'pandas.core.frame.DataFrame'>\n",
        "Index: 182 entries, hospital A to single\n",
        "Data columns (total 14 columns):\n",
        "Case #                      181  non-null values\n",
        "Approx onset date           80  non-null values\n",
        "Approx reporting date       103  non-null values\n",
        "Age                         172  non-null values\n",
        "Sex                         159  non-null values\n",
        "Probable infection place    180  non-null values\n",
        "Health status               178  non-null values\n",
        "Approx death date           42  non-null values\n",
        "Region                      130  non-null values\n",
        "HCW                         26  non-null values\n",
        "Reported comorbidities      88  non-null values\n",
        "Cluster ID                  182  non-null values\n",
        "Notes                       33  non-null values\n",
        " Zoonotic                   154  non-null values\n",
        "dtypes: float64(2), object(12)"
       ]
      }
     ],
     "prompt_number": 4
    },
    {
     "cell_type": "code",
     "collapsed": false,
     "input": [
      "dat['onset_date'] = dat['Approx onset date'].map(date_convert)\n",
      "dat['report_date'] = dat['Approx reporting date'].map(date_convert)\n",
      "dat['dates'] = dat['onset_date'].combine_first(dat['report_date']) #combines onset and report date columns, with onset date preferential"
     ],
     "language": "python",
     "metadata": {},
     "outputs": [],
     "prompt_number": 5
    },
    {
     "cell_type": "code",
     "collapsed": false,
     "input": [
      "def _group_clusters(df, cluster_id, date_col):\n",
      "    ''' Use pandas to group clusters by basic cluster membership information\n",
      "    df = pandas dataframe\n",
      "    cluster_id = column that identifies cluster membership, which can be a basic string like \"hospital cluster A\"\n",
      "    date_col = onset or report date column\n",
      "    '''\n",
      "    clusters = df[df[cluster_id] != 'single']\n",
      "    clusters = clusters[clusters[date_col].notnull()]\n",
      "    \n",
      "    groups = clusters.groupby(clusters[cluster_id])\n",
      "    \n",
      "    return groups\n"
     ],
     "language": "python",
     "metadata": {},
     "outputs": [],
     "prompt_number": 6
    },
    {
     "cell_type": "code",
     "collapsed": false,
     "input": [
      "def cluster_builder(df, cluster_id, case_id, date_col, color_col, inc_mean, inc_sd):\n",
      "    '''\n",
      "    Given a line listing with dates and basic information about cluster membership,\n",
      "    this script will estimate who transmitted an infectious disease to whom based on case onset dates.\n",
      "\n",
      "    df = pandas dataframe of line listing\n",
      "    cluster_id = col that identifies cluster membership, which can be a basic string like \"hospital cluster A\"\n",
      "    case_id = col with unique case identifier\n",
      "    date_col = onset or report date column\n",
      "    color_col = column that will be used to color nodes based on attribute, e.g. case severity or gender\n",
      "    inc_mean = incubation period mean\n",
      "    inc_sd = incubation period standard deviation\n",
      "\n",
      "    retuns clusters (pandas dataframe) and mx (networkx object)\n",
      "    '''\n",
      "    clusters = _group_clusters(df, cluster_id, date_col)\n",
      "    \n",
      "    mmin = timedelta(inc_mean - (1 * inc_sd), 0)\n",
      "    mmax = timedelta(inc_mean + (1 * inc_sd), 0)\n",
      "    \n",
      "    mx = []\n",
      "    for key, group in clusters:\n",
      "        #suspect this will be buggy with dif data sets, woudl like to improve\n",
      "        row = [tmp[1:4] for tmp in group[[case_id, date_col, color_col]].sort('dates').itertuples()]\n",
      "        mx.append(row)\n",
      "\n",
      "    network = []\n",
      "    for ix in range(0, len(mx)):\n",
      "        for inx in range(0, len(mx[ix])):\n",
      "            index_node = mx[ix][0][0]\n",
      "            source_node = index_node\n",
      "            case_id = mx[ix][inx][0]\n",
      "            time = mx[ix][inx][1]\n",
      "            color = mx[ix][inx][2]\n",
      "            \n",
      "            if len(mx[ix]) > 1:\n",
      "               if mx[ix][inx][1] - mx[ix][inx-1][1] > mmin:\n",
      "                    source_node = mx[ix][inx-1][0]\n",
      "        \n",
      "            result = (case_id, color, index_node, source_node, time)\n",
      "            network.append(result)\n",
      "            \n",
      "    df_out = pd.DataFrame(network, columns=['case_id', 'color', 'index_node', 'source_node', 'time'])\n",
      "    df_out.index = df_out.case_id\n",
      "    \n",
      "    \n",
      "    \n",
      "    return df_out"
     ],
     "language": "python",
     "metadata": {},
     "outputs": [],
     "prompt_number": 7
    },
    {
     "cell_type": "code",
     "collapsed": false,
     "input": [
      "clusters = cluster_builder(dat, 'Cluster ID', 'Case #', 'dates', 'Health status', 7, 5)\n",
      "clusters = cluster_builder(dat, 'Cluster ID', 'Case #', 'dates', 'Cluster ID', 7, 5)"
     ],
     "language": "python",
     "metadata": {},
     "outputs": [],
     "prompt_number": 8
    },
    {
     "cell_type": "code",
     "collapsed": false,
     "input": [
      "clusters.head()"
     ],
     "language": "python",
     "metadata": {},
     "outputs": [
      {
       "html": [
        "<div style=\"max-height:1000px;max-width:1500px;overflow:auto;\">\n",
        "<table border=\"1\" class=\"dataframe\">\n",
        "  <thead>\n",
        "    <tr style=\"text-align: right;\">\n",
        "      <th></th>\n",
        "      <th>case_id</th>\n",
        "      <th>color</th>\n",
        "      <th>index_node</th>\n",
        "      <th>source_node</th>\n",
        "      <th>time</th>\n",
        "    </tr>\n",
        "    <tr>\n",
        "      <th>case_id</th>\n",
        "      <th></th>\n",
        "      <th></th>\n",
        "      <th></th>\n",
        "      <th></th>\n",
        "      <th></th>\n",
        "    </tr>\n",
        "  </thead>\n",
        "  <tbody>\n",
        "    <tr>\n",
        "      <th>51 </th>\n",
        "      <td>  51</td>\n",
        "      <td> Cluster A</td>\n",
        "      <td>  51</td>\n",
        "      <td>  51</td>\n",
        "      <td>2013-05-31 00:00:00</td>\n",
        "    </tr>\n",
        "    <tr>\n",
        "      <th>52 </th>\n",
        "      <td>  52</td>\n",
        "      <td> Cluster A</td>\n",
        "      <td>  51</td>\n",
        "      <td>  51</td>\n",
        "      <td>2013-06-01 00:00:00</td>\n",
        "    </tr>\n",
        "    <tr>\n",
        "      <th>53 </th>\n",
        "      <td>  53</td>\n",
        "      <td> Cluster A</td>\n",
        "      <td>  51</td>\n",
        "      <td>  51</td>\n",
        "      <td>2013-06-01 00:00:00</td>\n",
        "    </tr>\n",
        "    <tr>\n",
        "      <th>114</th>\n",
        "      <td> 114</td>\n",
        "      <td> Cluster E</td>\n",
        "      <td> 114</td>\n",
        "      <td> 114</td>\n",
        "      <td>2013-08-15 00:00:00</td>\n",
        "    </tr>\n",
        "    <tr>\n",
        "      <th>115</th>\n",
        "      <td> 115</td>\n",
        "      <td> Cluster E</td>\n",
        "      <td> 114</td>\n",
        "      <td> 114</td>\n",
        "      <td>2013-08-21 00:00:00</td>\n",
        "    </tr>\n",
        "  </tbody>\n",
        "</table>\n",
        "</div>"
       ],
       "metadata": {},
       "output_type": "pyout",
       "prompt_number": 9,
       "text": [
        "         case_id      color  index_node  source_node                time\n",
        "case_id                                                                 \n",
        "51            51  Cluster A          51           51 2013-05-31 00:00:00\n",
        "52            52  Cluster A          51           51 2013-06-01 00:00:00\n",
        "53            53  Cluster A          51           51 2013-06-01 00:00:00\n",
        "114          114  Cluster E         114          114 2013-08-15 00:00:00\n",
        "115          115  Cluster E         114          114 2013-08-21 00:00:00"
       ]
      }
     ],
     "prompt_number": 9
    },
    {
     "cell_type": "code",
     "collapsed": false,
     "input": [
      "clusters.to_pickle('../cluster_network.pkl')"
     ],
     "language": "python",
     "metadata": {},
     "outputs": [],
     "prompt_number": 10
    },
    {
     "cell_type": "code",
     "collapsed": false,
     "input": [
      "dat"
     ],
     "language": "python",
     "metadata": {},
     "outputs": [
      {
       "html": [
        "<pre>\n",
        "&lt;class 'pandas.core.frame.DataFrame'&gt;\n",
        "Index: 182 entries, hospital A to single\n",
        "Data columns (total 17 columns):\n",
        "Case #                      181  non-null values\n",
        "Approx onset date           80  non-null values\n",
        "Approx reporting date       103  non-null values\n",
        "Age                         172  non-null values\n",
        "Sex                         159  non-null values\n",
        "Probable infection place    180  non-null values\n",
        "Health status               178  non-null values\n",
        "Approx death date           42  non-null values\n",
        "Region                      130  non-null values\n",
        "HCW                         26  non-null values\n",
        "Reported comorbidities      88  non-null values\n",
        "Cluster ID                  182  non-null values\n",
        "Notes                       33  non-null values\n",
        " Zoonotic                   154  non-null values\n",
        "onset_date                  80  non-null values\n",
        "report_date                 103  non-null values\n",
        "dates                       178  non-null values\n",
        "dtypes: float64(2), object(15)\n",
        "</pre>"
       ],
       "metadata": {},
       "output_type": "pyout",
       "prompt_number": 56,
       "text": [
        "<class 'pandas.core.frame.DataFrame'>\n",
        "Index: 182 entries, hospital A to single\n",
        "Data columns (total 17 columns):\n",
        "Case #                      181  non-null values\n",
        "Approx onset date           80  non-null values\n",
        "Approx reporting date       103  non-null values\n",
        "Age                         172  non-null values\n",
        "Sex                         159  non-null values\n",
        "Probable infection place    180  non-null values\n",
        "Health status               178  non-null values\n",
        "Approx death date           42  non-null values\n",
        "Region                      130  non-null values\n",
        "HCW                         26  non-null values\n",
        "Reported comorbidities      88  non-null values\n",
        "Cluster ID                  182  non-null values\n",
        "Notes                       33  non-null values\n",
        " Zoonotic                   154  non-null values\n",
        "onset_date                  80  non-null values\n",
        "report_date                 103  non-null values\n",
        "dates                       178  non-null values\n",
        "dtypes: float64(2), object(15)"
       ]
      }
     ],
     "prompt_number": 56
    },
    {
     "cell_type": "code",
     "collapsed": false,
     "input": [
      "def plot_cluster(df, clusters, cluster_id, date_col):\n",
      "    \n",
      "    cols = cycle(['r', 'b', 'g', 'y', 'purple'])\n",
      "\n",
      "    clusters = _group_clusters(dat, 'Cluster ID', 'dates')\n",
      "    \n",
      "    fig, ax = plt.subplots(figsize=(12, 10))\n",
      "    ax.xaxis_date()\n",
      "    ax.set_aspect('auto')\n",
      "    axprop =  ax.axis()\n",
      "    \n",
      "    plt.ylim(1, len(grpnames))\n",
      "    plt.yticks(np.arange(len(grpnames)), grpnames)\n",
      "    \n",
      "    xtog = timedelta(((10*axprop[1]-axprop[0])/axprop[1]), 0, 0)\n",
      "    counter = 0\n",
      "    \n",
      "    for key, group in clusters:\n",
      "        color = next(cols)\n",
      "        casenums = cycle([int(num) for num in group['Case #']])\n",
      "        \n",
      "        for casedate in group.dates:\n",
      "            x1 = [casedate, casedate+xtog]\n",
      "            y1 = np.array([counter, counter])\n",
      "            y2 = y1+0.5\n",
      "            \n",
      "            plt.fill_between(x1, y1, y2, color=color, alpha=.3)\n",
      "            xspot= x1[0] + timedelta((x1[1] - x1[0]).days/2.0, 0, 0)\n",
      "            plt.text(xspot, y1[1]+.25, next(casenums), horizontalalignment='center', verticalalignment='center', \n",
      "                     fontsize=9)\n",
      "            \n",
      "        counter += 1\n",
      "            \n",
      "    \n",
      "    fig.autofmt_xdate()\n",
      "    ax.grid()\n",
      "    fig.tight_layout()\n",
      "    \n",
      "    return fig, ax"
     ],
     "language": "python",
     "metadata": {},
     "outputs": [],
     "prompt_number": 61
    },
    {
     "cell_type": "code",
     "collapsed": false,
     "input": [
      "fig, ax = plot_cluster(dat, clusters, 'Cluster ID', 'dates')"
     ],
     "language": "python",
     "metadata": {},
     "outputs": [
      {
       "metadata": {},
       "output_type": "display_data",
       "png": "[encoded data removed]",
       "text": [
        "<matplotlib.figure.Figure at 0x108d82ed0>"
       ]
      }
     ],
     "prompt_number": 63
    },
    {
     "cell_type": "code",
     "collapsed": false,
     "input": [],
     "language": "python",
     "metadata": {},
     "outputs": []
    },
    {
     "cell_type": "code",
     "collapsed": false,
     "input": [],
     "language": "python",
     "metadata": {},
     "outputs": []
    }
   ],
   "metadata": {}
  }
 ]
}