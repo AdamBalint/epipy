{
 "cells": [
  {
   "cell_type": "markdown",
   "metadata": {},
   "source": [
    "### Question: how do I (elegeantly) add fully custom legends in matplotlib?"
   ]
  },
  {
   "cell_type": "code",
   "execution_count": 54,
   "metadata": {
    "collapsed": false
   },
   "outputs": [
    {
     "name": "stdout",
     "output_type": "stream",
     "text": [
      "Populating the interactive namespace from numpy and matplotlib\n"
     ]
    }
   ],
   "source": [
    "%pylab inline\n",
    "import epipy\n",
    "import seaborn as sns"
   ]
  },
  {
   "cell_type": "markdown",
   "metadata": {},
   "source": [
    "This function returns fig, ax object with two scatter plot objects and a fill_between object overlaid."
   ]
  },
  {
   "cell_type": "code",
   "execution_count": 68,
   "metadata": {
    "collapsed": true
   },
   "outputs": [],
   "source": [
    "def time_plot(df, yticks, date1, date2, color_col, color_dict=None):\n",
    "    \"\"\"\n",
    "    df = pandas dataframe of line list\n",
    "    yticks = column with ytick labels, e.g. case number\n",
    "    date1 = start date, e.g. onset date\n",
    "    date2 = end date, e.g. death date \n",
    "    color = column with color identifiers, e.g. patient sex or outcome\n",
    "    color_dict = optional dictionary with color categories as keys, and colors as values\n",
    "    ------------\n",
    "    returns fig, ax\n",
    "    ------------\n",
    "    Example useage:\n",
    "    fig, ax = time_plot(cases, 'case_id', 'onset_date', 'combined_outcome_date', 'categorical_outcome')\n",
    "    \"\"\"\n",
    "    fig, ax = plt.subplots()\n",
    "    ax.xaxis_date()\n",
    "    ax.set_aspect('auto')\n",
    "    fig.autofmt_xdate()\n",
    "    \n",
    "    plt.ylim(-1, len(df))\n",
    "    plt.yticks(np.arange(len(df)), df[yticks].values)\n",
    "    \n",
    "    color_keys = df[color_col].values\n",
    "    if color_dict == None:\n",
    "        color_choices = sns.color_palette('deep', len(color_keys))\n",
    "    color_dict = dict(zip(color_keys, color_choices))\n",
    "    \n",
    "    counter = 0\n",
    "    \n",
    "    for ix in df[date1].order(ascending=False).index:\n",
    "        x1 = df.xs(ix)[date1]\n",
    "        x2 = df.xs(ix)[date2]\n",
    "        \n",
    "        y1 = counter\n",
    "        \n",
    "        col = color_dict[df.xs(ix)[color_col]]\n",
    "        \n",
    "        ax.scatter(x1, y1, color=col, label='Test1')\n",
    "        ax.scatter(x2, y1, color=col, label='Test2')\n",
    "        plt.fill_between([x1, x2], y1-.04, y1+.04, alpha=.8, color=col)\n",
    "\n",
    "        counter += 1\n",
    "        \n",
    "    return fig, ax"
   ]
  },
  {
   "cell_type": "markdown",
   "metadata": {},
   "source": [
    "Generate example data using epipy"
   ]
  },
  {
   "cell_type": "code",
   "execution_count": 62,
   "metadata": {
    "collapsed": true
   },
   "outputs": [],
   "source": [
    "cases = epipy.generate_example_data(10, 30, 4, 5)\n",
    "cases2 = epipy.generate_example_data(10, 30, 4, 5)\n",
    "cases['Date2'] = cases2['Date']\n",
    "cases = cases.head(10)"
   ]
  },
  {
   "cell_type": "code",
   "execution_count": 63,
   "metadata": {
    "collapsed": false
   },
   "outputs": [
    {
     "data": {
      "text/html": [
       "<div style=\"max-height:1000px;max-width:1500px;overflow:auto;\">\n",
       "<table border=\"1\" class=\"dataframe\">\n",
       "  <thead>\n",
       "    <tr style=\"text-align: right;\">\n",
       "      <th></th>\n",
       "      <th>ID</th>\n",
       "      <th>Date</th>\n",
       "      <th>Cluster</th>\n",
       "      <th>sex</th>\n",
       "      <th>Date2</th>\n",
       "    </tr>\n",
       "  </thead>\n",
       "  <tbody>\n",
       "    <tr>\n",
       "      <th>0</th>\n",
       "      <td> 0</td>\n",
       "      <td>2014-01-28</td>\n",
       "      <td> ClusterR</td>\n",
       "      <td>   Male</td>\n",
       "      <td>2014-01-26</td>\n",
       "    </tr>\n",
       "    <tr>\n",
       "      <th>1</th>\n",
       "      <td> 1</td>\n",
       "      <td>2014-02-03</td>\n",
       "      <td> ClusterR</td>\n",
       "      <td> Female</td>\n",
       "      <td>2014-02-03</td>\n",
       "    </tr>\n",
       "    <tr>\n",
       "      <th>2</th>\n",
       "      <td> 2</td>\n",
       "      <td>2014-02-03</td>\n",
       "      <td> ClusterR</td>\n",
       "      <td>   Male</td>\n",
       "      <td>2014-02-05</td>\n",
       "    </tr>\n",
       "    <tr>\n",
       "      <th>3</th>\n",
       "      <td> 3</td>\n",
       "      <td>2014-02-09</td>\n",
       "      <td> ClusterR</td>\n",
       "      <td>   Male</td>\n",
       "      <td>2014-02-09</td>\n",
       "    </tr>\n",
       "    <tr>\n",
       "      <th>4</th>\n",
       "      <td> 4</td>\n",
       "      <td>2014-02-09</td>\n",
       "      <td> ClusterR</td>\n",
       "      <td>   Male</td>\n",
       "      <td>2014-02-16</td>\n",
       "    </tr>\n",
       "  </tbody>\n",
       "</table>\n",
       "</div>"
      ],
      "text/plain": [
       "   ID       Date   Cluster     sex      Date2\n",
       "0   0 2014-01-28  ClusterR    Male 2014-01-26\n",
       "1   1 2014-02-03  ClusterR  Female 2014-02-03\n",
       "2   2 2014-02-03  ClusterR    Male 2014-02-05\n",
       "3   3 2014-02-09  ClusterR    Male 2014-02-09\n",
       "4   4 2014-02-09  ClusterR    Male 2014-02-16"
      ]
     },
     "execution_count": 63,
     "metadata": {},
     "output_type": "execute_result"
    }
   ],
   "source": [
    "cases.head()"
   ]
  },
  {
   "cell_type": "markdown",
   "metadata": {},
   "source": [
    "This is what happens if I include a legend inline."
   ]
  },
  {
   "cell_type": "code",
   "execution_count": 69,
   "metadata": {
    "collapsed": false
   },
   "outputs": [
    {
     "data": {
      "text/plain": [
       "<matplotlib.legend.Legend at 0x10b1101d0>"
      ]
     },
     "execution_count": 69,
     "metadata": {},
     "output_type": "execute_result"
    },
    {
     "data": {
      "image/png": "[encoded data removed]",
      "text/plain": [
       "<matplotlib.figure.Figure at 0x10b110210>"
      ]
     },
     "metadata": {},
     "output_type": "display_data"
    }
   ],
   "source": [
    "fig, ax = time_plot(cases, 'ID', 'Date', 'Date2', 'sex')\n",
    "ax.legend()"
   ]
  },
  {
   "cell_type": "markdown",
   "metadata": {},
   "source": [
    "The solution I use instead is to make an invisible layer (note the alpha=0), and make a legend out of that."
   ]
  },
  {
   "cell_type": "code",
   "execution_count": 65,
   "metadata": {
    "collapsed": false
   },
   "outputs": [
    {
     "data": {
      "text/plain": [
       "<matplotlib.legend.Legend at 0x10a5556d0>"
      ]
     },
     "execution_count": 65,
     "metadata": {},
     "output_type": "execute_result"
    },
    {
     "data": {
      "image/png": "[encoded data removed]",
      "text/plain": [
       "<matplotlib.figure.Figure at 0x10c1fc690>"
      ]
     },
     "metadata": {},
     "output_type": "display_data"
    }
   ],
   "source": [
    "fig, ax = time_plot(cases, 'ID', 'Date', 'Date2', 'sex', legend=False)\n",
    "color_dict = {'Male': 'b', 'Female':'r'}\n",
    "lines = []\n",
    "for key, value in color_dict.iteritems():\n",
    "    plt.scatter(cases['Date'][0], 1, color='b', alpha=0)\n",
    "    line = plt.Line2D(range(1), range(1), color=value, marker='o', markersize=6, alpha=.8, label=key)\n",
    "    lines.append(line)\n",
    "\n",
    "ax.legend(lines, [k for k in color_dict.iterkeys()])"
   ]
  },
  {
   "cell_type": "code",
   "execution_count": null,
   "metadata": {
    "collapsed": true
   },
   "outputs": [],
   "source": []
  }
 ],
 "metadata": {
  "kernelspec": {
   "display_name": "Python 2",
   "language": "python",
   "name": "python2"
  },
  "language_info": {
   "codemirror_mode": {
    "name": "ipython",
    "version": 2
   },
   "file_extension": ".py",
   "mimetype": "text/x-python",
   "name": "python",
   "nbconvert_exporter": "python",
   "pygments_lexer": "ipython2",
   "version": "2.7.9"
  }
 },
 "nbformat": 4,
 "nbformat_minor": 0
}
