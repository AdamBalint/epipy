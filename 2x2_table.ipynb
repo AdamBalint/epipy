{
 "metadata": {
  "name": "2x2_table"
 },
 "nbformat": 3,
 "nbformat_minor": 0,
 "worksheets": [
  {
   "cells": [
    {
     "cell_type": "markdown",
     "metadata": {},
     "source": [
      "# Produce 2x2 tables \n",
      "\n",
      "Placeholder. \n",
      "Used for calculating odds ratios etc. in epidemiology.\n"
     ]
    },
    {
     "cell_type": "code",
     "collapsed": false,
     "input": [],
     "language": "python",
     "metadata": {},
     "outputs": []
    }
   ],
   "metadata": {}
  }
 ]
}