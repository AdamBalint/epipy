{
 "metadata": {
  "name": "viz"
 },
 "nbformat": 3,
 "nbformat_minor": 0,
 "worksheets": [
  {
   "cells": [
    {
     "cell_type": "code",
     "collapsed": false,
     "input": [
      "import pandas as pd\n",
      "import numpy as np\n",
      "import networkx as nx"
     ],
     "language": "python",
     "metadata": {},
     "outputs": [],
     "prompt_number": 7
    },
    {
     "cell_type": "markdown",
     "metadata": {},
     "source": [
      "Create example data. For a realistic line listing, see mers_data.csv in the repo."
     ]
    },
    {
     "cell_type": "code",
     "collapsed": false,
     "input": [
      "def example_data():\n",
      "    df = pd.DataFrame(['01-10-2013', '01-11-2013', '01-14-2013', '02-12-2013', '01-13-2013'], columns=['date'])\n",
      "    df['id'] = [1, 2, 3, 4, 5]\n",
      "    df['index_node'] = [1, 1, 1, 2, np.nan]\n",
      "    df['source_node'] = [1, 1, 1, 2, np.nan]\n",
      "    return df"
     ],
     "language": "python",
     "metadata": {},
     "outputs": [],
     "prompt_number": 8
    },
    {
     "cell_type": "markdown",
     "metadata": {},
     "source": [
      "Build a graph from the case id and the source id."
     ]
    },
    {
     "cell_type": "code",
     "collapsed": false,
     "input": [
      "def build_graph(df):\n",
      "    G = nx.Graph()\n",
      "    G.add_nodes_from(df['id'])\n",
      "    edgelist = [(item[2], item[4]) for item in df.dropna().itertuples()]\n",
      "    G.add_edges_from(edgelist)\n",
      "    return G"
     ],
     "language": "python",
     "metadata": {},
     "outputs": [],
     "prompt_number": 9
    },
    {
     "cell_type": "code",
     "collapsed": false,
     "input": [
      "def plotting(G, df):\n",
      "    n = len(G)\n",
      "    dim = 2\n",
      "    plt.xlim(0, 5)\n",
      "    plt.ylim(0, len(df))\n",
      "    nx.draw_networkx(G, pos=layout(G))\n",
      "    plt.show()"
     ],
     "language": "python",
     "metadata": {},
     "outputs": [],
     "prompt_number": 10
    },
    {
     "cell_type": "markdown",
     "metadata": {},
     "source": [
      "Specify the x, y coordinates of the node."
     ]
    },
    {
     "cell_type": "code",
     "collapsed": false,
     "input": [
      "def layout(G):\n",
      "    n=len(G)\n",
      "    pos=np.array([[1, 1], [1, 2], [1,2.5], [1, 3], [3, 1]])\n",
      "    return dict(zip(G,pos))"
     ],
     "language": "python",
     "metadata": {},
     "outputs": [],
     "prompt_number": 11
    },
    {
     "cell_type": "code",
     "collapsed": false,
     "input": [
      "df = example_data()\n",
      "G = build_graph(df)\n",
      "plotting(G, df)"
     ],
     "language": "python",
     "metadata": {},
     "outputs": [
      {
       "output_type": "display_data",
       "png": "[encoded data removed]"
      }
     ],
     "prompt_number": 12
    }
   ],
   "metadata": {}
  }
 ]
}