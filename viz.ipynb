{
 "metadata": {
  "name": "viz"
 },
 "nbformat": 3,
 "nbformat_minor": 0,
 "worksheets": [
  {
   "cells": [
    {
     "cell_type": "code",
     "collapsed": false,
     "input": [
      "import pandas as pd\n",
      "import numpy as np\n",
      "from itertools import cycle\n",
      "import datetime as dt\n",
      "import networkx as nx"
     ],
     "language": "python",
     "metadata": {},
     "outputs": [],
     "prompt_number": 895
    },
    {
     "cell_type": "markdown",
     "metadata": {},
     "source": [
      "Create example data. For a realistic line listing, see mers_data.csv in the repo."
     ]
    },
    {
     "cell_type": "code",
     "collapsed": false,
     "input": [
      "def example_data():\n",
      "    df = pd.DataFrame([1, 2, 3, 4, 5, 6], columns=['id'])\n",
      "    df.index = df.id\n",
      "    df['date'] = ['01-10-2013', '01-11-2013', '01-14-2013', '02-12-2013', '01-13-2013', '03-13-2013']\n",
      "    \n",
      "    dates = [datetime.datetime.strptime(i, '%m-%d-%Y') for i in df.date]\n",
      "    df['pltdate'] = [matplotlib.dates.date2num(i) for i in dates]\n",
      "    \n",
      "    df['index_node'] = [1, 1, 1, 1, 1, np.nan]\n",
      "    df['source_node'] = [1, 1, 1, 3, 3, np.nan]\n",
      "    return df"
     ],
     "language": "python",
     "metadata": {},
     "outputs": [],
     "prompt_number": 896
    },
    {
     "cell_type": "markdown",
     "metadata": {},
     "source": [
      "Build a graph from the case id and the source id."
     ]
    },
    {
     "cell_type": "code",
     "collapsed": false,
     "input": [
      "def build_graph(df):\n",
      "    G = nx.Graph()\n",
      "    G.add_nodes_from(df['id'])\n",
      "    \n",
      "    edgelist = [(item[0], item[4]) for item in df.dropna().itertuples()]\n",
      "    G.add_edges_from(edgelist)\n",
      "    nx.set_node_attributes(G, 'date', df['pltdate'].to_dict())\n",
      "    nx.set_node_attributes(G, 'source', df['source_node'].to_dict())\n",
      "    return G"
     ],
     "language": "python",
     "metadata": {},
     "outputs": [],
     "prompt_number": 897
    },
    {
     "cell_type": "code",
     "collapsed": false,
     "input": [
      "def plotting(G, df):\n",
      "    fig = plt.figure()\n",
      "    ax = fig.add_axes([1, 1, 1, 1])\n",
      "    ax.xaxis_date()\n",
      "    plt.ylim(0, df.source_node.max()*1.2)\n",
      "    nx.draw_networkx(G, pos=layout(G))\n",
      "    plt.show()"
     ],
     "language": "python",
     "metadata": {},
     "outputs": [],
     "prompt_number": 898
    },
    {
     "cell_type": "markdown",
     "metadata": {},
     "source": [
      "Specify the x, y coordinates of the node."
     ]
    },
    {
     "cell_type": "code",
     "collapsed": false,
     "input": [
      "def layout(G):\n",
      "\n",
      "    positions = []\n",
      "\n",
      "    for i in G.nodes():\n",
      "        if len(G.neighbors(i)) == 0:\n",
      "            lst = [G.node[i]['date'], 0.25]\n",
      "        elif i in G.neighbors(i):\n",
      "            lst = [G.node[i]['date'], 0.25]\n",
      "        else:\n",
      "            ix = G.neighbors(i)[0]\n",
      "            lst = [G.node[ix]['date']+random.randint(-5, 5), G.node[i]['source']]\n",
      "        positions.append(lst)\n",
      "    pos = np.array(positions)\n",
      "    return dict(zip(G,pos))"
     ],
     "language": "python",
     "metadata": {},
     "outputs": [],
     "prompt_number": 899
    },
    {
     "cell_type": "code",
     "collapsed": false,
     "input": [
      "df = example_data()\n",
      "G = build_graph(df)\n",
      "plotting(G, df)"
     ],
     "language": "python",
     "metadata": {},
     "outputs": [
      {
       "output_type": "display_data",
       "png": "[encoded data removed]"
      }
     ],
     "prompt_number": 900
    },
    {
     "cell_type": "code",
     "collapsed": false,
     "input": [
      "G.nodes(1)"
     ],
     "language": "python",
     "metadata": {},
     "outputs": [
      {
       "output_type": "pyout",
       "prompt_number": 901,
       "text": [
        "[(1, {'date': 734878.0, 'source': 1.0}),\n",
        " (2, {'date': 734879.0, 'source': 1.0}),\n",
        " (3, {'date': 734882.0, 'source': 1.0}),\n",
        " (4, {'date': 734911.0, 'source': 3.0}),\n",
        " (5, {'date': 734881.0, 'source': 3.0}),\n",
        " (6, {'date': 734940.0, 'source': nan})]"
       ]
      }
     ],
     "prompt_number": 901
    },
    {
     "cell_type": "code",
     "collapsed": false,
     "input": [],
     "language": "python",
     "metadata": {},
     "outputs": [],
     "prompt_number": 901
    }
   ],
   "metadata": {}
  }
 ]
}