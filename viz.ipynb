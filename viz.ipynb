{
 "metadata": {
  "name": "viz"
 },
 "nbformat": 3,
 "nbformat_minor": 0,
 "worksheets": [
  {
   "cells": [
    {
     "cell_type": "code",
     "collapsed": false,
     "input": [
      "import pandas as pd\n",
      "import numpy as np\n",
      "from itertools import cycle\n",
      "import datetime as dt\n",
      "import networkx as nx"
     ],
     "language": "python",
     "metadata": {},
     "outputs": [],
     "prompt_number": 794
    },
    {
     "cell_type": "markdown",
     "metadata": {},
     "source": [
      "Create example data. For a realistic line listing, see mers_data.csv in the repo."
     ]
    },
    {
     "cell_type": "code",
     "collapsed": false,
     "input": [
      "def example_data():\n",
      "    df = pd.DataFrame([1, 2, 3, 4, 5, 6], columns=['id'])\n",
      "    df.index = df.id\n",
      "    df['date'] = ['01-10-2013', '01-11-2013', '01-14-2013', '02-12-2013', '01-13-2013', '03-13-2013']\n",
      "    \n",
      "    dates = [datetime.datetime.strptime(i, '%m-%d-%Y') for i in df.date]\n",
      "    df['pltdate'] = [matplotlib.dates.date2num(i) for i in dates]\n",
      "    \n",
      "    df['index_node'] = [1, 1, 1, 2, 3, 4]\n",
      "    df['source_node'] = [1, 1, 1, 2, 3, np.nan]\n",
      "    return df"
     ],
     "language": "python",
     "metadata": {},
     "outputs": [],
     "prompt_number": 795
    },
    {
     "cell_type": "markdown",
     "metadata": {},
     "source": [
      "Build a graph from the case id and the source id."
     ]
    },
    {
     "cell_type": "code",
     "collapsed": false,
     "input": [
      "def build_graph(df):\n",
      "    G = nx.Graph()\n",
      "    G.add_nodes_from(df['id'])\n",
      "    \n",
      "    edgelist = [(item[0], item[4]) for item in df.dropna().itertuples()]\n",
      "    G.add_edges_from(edgelist)\n",
      "    nx.set_node_attributes(G, 'date', df['pltdate'].to_dict())\n",
      "    return G"
     ],
     "language": "python",
     "metadata": {},
     "outputs": [],
     "prompt_number": 796
    },
    {
     "cell_type": "code",
     "collapsed": false,
     "input": [
      "def plotting(G, df):\n",
      "    fig = plt.figure()\n",
      "    ax = fig.add_axes([1, 1, 1, 1])\n",
      "    ax.xaxis_date()\n",
      "    nx.draw_networkx(G, pos=layout(G))\n",
      "    plt.show()"
     ],
     "language": "python",
     "metadata": {},
     "outputs": [],
     "prompt_number": 797
    },
    {
     "cell_type": "markdown",
     "metadata": {},
     "source": [
      "Specify the x, y coordinates of the node."
     ]
    },
    {
     "cell_type": "code",
     "collapsed": false,
     "input": [
      "def layout(G):\n",
      "\n",
      "    positions = []\n",
      "\n",
      "    for i in G.nodes():\n",
      "        if len(G.neighbors(i)) == 0:\n",
      "            lst = [G.node[i]['date'], 0.25]\n",
      "        elif i in G.neighbors(i):\n",
      "            lst = [G.node[i]['date'], 0.25]\n",
      "        else:\n",
      "            ix = G.neighbors(i)[0]\n",
      "            lst = [G.node[ix]['date'], 1.25]\n",
      "        positions.append(lst)\n",
      "    pos = np.array(positions)\n",
      "    return dict(zip(G,pos))"
     ],
     "language": "python",
     "metadata": {},
     "outputs": [],
     "prompt_number": 798
    },
    {
     "cell_type": "code",
     "collapsed": false,
     "input": [
      "df = example_data()\n",
      "G = build_graph(df)\n",
      "plotting(G, df)"
     ],
     "language": "python",
     "metadata": {},
     "outputs": [
      {
       "output_type": "display_data",
       "png": "[encoded data removed]"
      }
     ],
     "prompt_number": 799
    },
    {
     "cell_type": "code",
     "collapsed": false,
     "input": [
      "G.neighbors(2)[0]"
     ],
     "language": "python",
     "metadata": {},
     "outputs": [
      {
       "output_type": "pyout",
       "prompt_number": 800,
       "text": [
        "1"
       ]
      }
     ],
     "prompt_number": 800
    },
    {
     "cell_type": "code",
     "collapsed": false,
     "input": [],
     "language": "python",
     "metadata": {},
     "outputs": [],
     "prompt_number": 800
    }
   ],
   "metadata": {}
  }
 ]
}