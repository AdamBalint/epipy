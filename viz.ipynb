{
 "metadata": {
  "name": "viz"
 },
 "nbformat": 3,
 "nbformat_minor": 0,
 "worksheets": [
  {
   "cells": [
    {
     "cell_type": "code",
     "collapsed": false,
     "input": [
      "import pandas as pd\n",
      "import numpy as np\n",
      "from itertools import cycle\n",
      "import datetime as dt\n",
      "import networkx as nx"
     ],
     "language": "python",
     "metadata": {},
     "outputs": [],
     "prompt_number": 562
    },
    {
     "cell_type": "markdown",
     "metadata": {},
     "source": [
      "Create example data. For a realistic line listing, see mers_data.csv in the repo."
     ]
    },
    {
     "cell_type": "code",
     "collapsed": false,
     "input": [
      "def example_data():\n",
      "    df = pd.DataFrame(['01-10-2013', '01-11-2013', '01-14-2013', '02-12-2013', '01-13-2013', '03-13-2013'], columns=['date'])\n",
      "    df['id'] = [1, 2, 3, 4, 5, 6]\n",
      "    df['index_node'] = [1, 1, 1, 2, 3, 4]\n",
      "    df['source_node'] = [1, 1, 1, 2, 3, np.nan]\n",
      "    return df"
     ],
     "language": "python",
     "metadata": {},
     "outputs": [],
     "prompt_number": 563
    },
    {
     "cell_type": "markdown",
     "metadata": {},
     "source": [
      "Build a graph from the case id and the source id."
     ]
    },
    {
     "cell_type": "code",
     "collapsed": false,
     "input": [
      "def build_graph(df):\n",
      "    G = nx.Graph()\n",
      "    G.add_nodes_from(df['id'])\n",
      "    edgelist = [(item[2], item[4]) for item in df.dropna().itertuples()]\n",
      "    G.add_edges_from(edgelist)\n",
      "    return G"
     ],
     "language": "python",
     "metadata": {},
     "outputs": [],
     "prompt_number": 564
    },
    {
     "cell_type": "code",
     "collapsed": false,
     "input": [
      "def plotting(G, df):\n",
      "    dates = [datetime.datetime.strptime(i, '%m-%d-%Y') for i in df.date]\n",
      "    pltdates = matplotlib.dates.date2num(dates)\n",
      "    fig = plt.figure()\n",
      "    ax = fig.add_axes([1, 1, 1, 1])\n",
      "    ax.xaxis_date()\n",
      "    nx.draw_networkx(G, pos=layout(pltdates, G))\n",
      "    plt.show()"
     ],
     "language": "python",
     "metadata": {},
     "outputs": [],
     "prompt_number": 565
    },
    {
     "cell_type": "markdown",
     "metadata": {},
     "source": [
      "Specify the x, y coordinates of the node."
     ]
    },
    {
     "cell_type": "code",
     "collapsed": false,
     "input": [
      "def layout(dates, G):\n",
      "    n=len(G)\n",
      "    positions = []\n",
      "    datecycle = cycle(dates)\n",
      "    for i in G.nodes():\n",
      "        lst = [next(datecycle), i]\n",
      "        positions.append(lst)\n",
      "    pos = np.array(positions)\n",
      "    return dict(zip(G,pos))"
     ],
     "language": "python",
     "metadata": {},
     "outputs": [],
     "prompt_number": 566
    },
    {
     "cell_type": "code",
     "collapsed": false,
     "input": [
      "df = example_data()\n",
      "G = build_graph(df)\n",
      "plotting(G, df)"
     ],
     "language": "python",
     "metadata": {},
     "outputs": [
      {
       "output_type": "stream",
       "stream": "stdout",
       "text": [
        "[(1, 1.0), (2, 1.0), (3, 1.0), (4, 2.0), (5, 3.0)]\n"
       ]
      },
      {
       "output_type": "display_data",
       "png": "[encoded data removed]"
      }
     ],
     "prompt_number": 567
    }
   ],
   "metadata": {}
  }
 ]
}