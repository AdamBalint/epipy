{
 "metadata": {
  "name": "cluster_builder"
 },
 "nbformat": 3,
 "nbformat_minor": 0,
 "worksheets": [
  {
   "cells": [
    {
     "cell_type": "code",
     "collapsed": false,
     "input": [
      "from __future__ import division\n",
      "from itertools import cycle\n",
      "from matplotlib import pyplot as plt\n",
      "from random import choice\n",
      "from datetime import datetime\n",
      "import pandas as pd"
     ],
     "language": "python",
     "metadata": {},
     "outputs": [],
     "prompt_number": 386
    },
    {
     "cell_type": "code",
     "collapsed": false,
     "input": [
      "def date_convert(x):\n",
      "    try:\n",
      "        y = datetime.strptime(x, \"%Y-%m-%d\")\n",
      "    except:\n",
      "        y = np.nan\n",
      "        \n",
      "    return y"
     ],
     "language": "python",
     "metadata": {},
     "outputs": [],
     "prompt_number": 387
    },
    {
     "cell_type": "code",
     "collapsed": false,
     "input": [
      "dat = pd.read_csv('mers_data.csv')"
     ],
     "language": "python",
     "metadata": {},
     "outputs": [],
     "prompt_number": 388
    },
    {
     "cell_type": "code",
     "collapsed": false,
     "input": [
      "dat['onset_date'] = dat['Approx onset date'].map(date_convert)\n",
      "dat['report_date'] = dat['Approx reporting date'].map(date_convert)\n",
      "dat['dates'] = dat['onset_date'].combine_first(dat['report_date'])"
     ],
     "language": "python",
     "metadata": {},
     "outputs": [],
     "prompt_number": 389
    },
    {
     "cell_type": "code",
     "collapsed": false,
     "input": [
      "clusters = dat[dat['Cluster ID'].notnull()]\n",
      "clusters = dat[dat['dates'].notnull()]\n",
      "clusters['plotdates'] = [matplotlib.dates.date2num(i) for i in clusters.dates]"
     ],
     "language": "python",
     "metadata": {},
     "outputs": [],
     "prompt_number": 390
    },
    {
     "cell_type": "code",
     "collapsed": false,
     "input": [
      "groups = clusters.groupby(clusters['Cluster ID'])"
     ],
     "language": "python",
     "metadata": {},
     "outputs": [],
     "prompt_number": 391
    },
    {
     "cell_type": "markdown",
     "metadata": {},
     "source": [
      "http://stackoverflow.com/questions/8772421/how-to-plot-events-on-time-on-using-matplotlib"
     ]
    },
    {
     "cell_type": "code",
     "collapsed": false,
     "input": [
      "def avg(a, b):\n",
      "    return (a + b) / 2.0\n"
     ],
     "language": "python",
     "metadata": {},
     "outputs": [],
     "prompt_number": 392
    },
    {
     "cell_type": "code",
     "collapsed": false,
     "input": [
      "fig = plt.figure()\n",
      "ax = fig.add_subplot(111)\n",
      "ax.xaxis_date()\n",
      "axprop =  plt.axis()\n",
      "fig.autofmt_xdate()\n",
      "colorcycle = ['r', 'g', 'b', 'y', 'orange', 'purple']\n",
      "\n",
      "grpnames = unique(clusters['Cluster ID']).dropna().values\n",
      "plt.ylim(1, len(grpnames))\n",
      "plt.yticks(np.arange(len(grpnames)), grpnames)\n",
      "\n",
      "for key, group in groups:\n",
      "    col = choice(colorcycle)\n",
      "    for date in group.plotdates:\n",
      "        x1 = [date, date+((2*axprop[1]-axprop[0])/axprop[1])]\n",
      "        for i in range(len(grpnames)):\n",
      "            if key == grpnames[i]:\n",
      "                y1 = np.array([i, i])\n",
      "                y2 = y1+0.5\n",
      "                plt.fill_between(x1, y1, y2, color=col)\n",
      "                plt.text(avg(x1[0], x1[1]), avg(y1[0], y2[0]), 'A', horizontalalignment='center', verticalalignment='center')\n",
      "\n"
     ],
     "language": "python",
     "metadata": {},
     "outputs": [
      {
       "output_type": "display_data",
       "png": "[encoded data removed]"
      }
     ],
     "prompt_number": 435
    },
    {
     "cell_type": "code",
     "collapsed": false,
     "input": [
      "for i in clusters.to_dict():\n",
      "    print i"
     ],
     "language": "python",
     "metadata": {},
     "outputs": [
      {
       "output_type": "stream",
       "stream": "stdout",
       "text": [
        "Case #\n",
        "dates\n",
        "Cluster ID\n",
        "HCW\n",
        "Reported comorbidities\n",
        "Age\n",
        "Sex\n",
        "plotdates\n",
        "report_date\n",
        "Approx death date\n",
        "Notes\n",
        "onset_date\n",
        "Health status\n",
        "Approx reporting date\n",
        "Region\n",
        "Approx onset date\n",
        "Probable infection place\n"
       ]
      }
     ],
     "prompt_number": 440
    },
    {
     "cell_type": "code",
     "collapsed": false,
     "input": [],
     "language": "python",
     "metadata": {},
     "outputs": []
    }
   ],
   "metadata": {}
  }
 ]
}