{
 "metadata": {
  "name": "cluster_builder"
 },
 "nbformat": 3,
 "nbformat_minor": 0,
 "worksheets": [
  {
   "cells": [
    {
     "cell_type": "code",
     "collapsed": false,
     "input": [
      "from __future__ import division\n",
      "from itertools import cycle\n",
      "from matplotlib import pyplot as plt\n",
      "from random import choice\n",
      "from datetime import datetime\n",
      "import pandas as pd"
     ],
     "language": "python",
     "metadata": {},
     "outputs": [],
     "prompt_number": 2
    },
    {
     "cell_type": "code",
     "collapsed": false,
     "input": [
      "def date_convert(x):\n",
      "    try:\n",
      "        y = datetime.strptime(x, \"%Y-%m-%d\")\n",
      "    except:\n",
      "        y = np.nan\n",
      "        \n",
      "    return y"
     ],
     "language": "python",
     "metadata": {},
     "outputs": [],
     "prompt_number": 3
    },
    {
     "cell_type": "code",
     "collapsed": false,
     "input": [
      "dat = pd.read_csv('mers_data.csv')\n",
      "dat.index = dat['Cluster ID']"
     ],
     "language": "python",
     "metadata": {},
     "outputs": [],
     "prompt_number": 4
    },
    {
     "cell_type": "code",
     "collapsed": false,
     "input": [
      "dat['onset_date'] = dat['Approx onset date'].map(date_convert)\n",
      "dat['report_date'] = dat['Approx reporting date'].map(date_convert)\n",
      "dat['dates'] = dat['onset_date'].combine_first(dat['report_date'])"
     ],
     "language": "python",
     "metadata": {},
     "outputs": [],
     "prompt_number": 5
    },
    {
     "cell_type": "code",
     "collapsed": false,
     "input": [
      "clusters = dat[dat['Cluster ID'].notnull()]\n",
      "clusters = dat[dat['dates'].notnull()]\n",
      "clusters['plotdates'] = [matplotlib.dates.date2num(i) for i in clusters.dates]"
     ],
     "language": "python",
     "metadata": {},
     "outputs": [],
     "prompt_number": 6
    },
    {
     "cell_type": "code",
     "collapsed": false,
     "input": [
      "groups = clusters.groupby(clusters['Cluster ID'])"
     ],
     "language": "python",
     "metadata": {},
     "outputs": [],
     "prompt_number": 7
    },
    {
     "cell_type": "markdown",
     "metadata": {},
     "source": [
      "http://stackoverflow.com/questions/8772421/how-to-plot-events-on-time-on-using-matplotlib"
     ]
    },
    {
     "cell_type": "code",
     "collapsed": false,
     "input": [
      "def avg(a, b):\n",
      "    return (a + b) / 2.0\n"
     ],
     "language": "python",
     "metadata": {},
     "outputs": [],
     "prompt_number": 8
    },
    {
     "cell_type": "code",
     "collapsed": false,
     "input": [
      "from random import gauss"
     ],
     "language": "python",
     "metadata": {},
     "outputs": []
    },
    {
     "cell_type": "code",
     "collapsed": false,
     "input": [
      "def cluster_builder(df, cluster_id, case_id, mean, sd):\n",
      "    '''\n",
      "    '''\n",
      "    fig, ax = plt.subplots()\n",
      "    ax.xaxis_date()\n",
      "    axprop =  plt.axis()\n",
      "    fig.autofmt_xdate()\n",
      "\n",
      "    grpnames = unique(df[cluster_id]).dropna().values\n",
      "    plt.ylim(1, len(grpnames))\n",
      "    plt.yticks(np.arange(len(grpnames)), grpnames)\n",
      "\n",
      "    mmin, mmax = mean - 3 * std, mean + 3 * std\n",
      "\n",
      "    for key, group in groups:\n",
      "        col = choice(colorcycle)\n",
      "        casenums = cycle([num for num in group[case_id]])\n",
      "    \n",
      "        date_lst = [date for date in group.plotdates] #change to accomodate out of order and >2 cluster\n",
      "        if len(date_lst) > 1:\n",
      "            rng = date_lst[1] - date_lst[0]\n",
      "            if rng == 0:\n",
      "                color = 'red'\n",
      "            elif rng >= mmin and rng <= mmax:\n",
      "                color='darkgreen'\n",
      "            else: color = 'yellow'\n",
      "        \n",
      "        for date in date_lst:\n",
      "            x1 = [date, date+((10*axprop[1]-axprop[0])/axprop[1])]\n",
      "    \n",
      "            for i in range(len(grpnames)):\n",
      "                if key == grpnames[i]:\n",
      "                    y1 = np.array([i, i])\n",
      "                    y2 = y1+0.5\n",
      "                    plt.fill_between(x1, y1, y2, color=color, alpha=.4)\n",
      "                    plt.text(avg(x1[0], x1[1]), avg(y1[0], y2[0]), next(casenums), horizontalalignment='center', verticalalignment='center', fontsize=9)"
     ],
     "language": "python",
     "metadata": {},
     "outputs": [],
     "prompt_number": 43
    },
    {
     "cell_type": "code",
     "collapsed": false,
     "input": [
      "cluster_builder(clusters, 'Cluster ID', 'Case #', 10, 3)"
     ],
     "language": "python",
     "metadata": {},
     "outputs": [
      {
       "output_type": "display_data",
       "png": "[encoded data removed]"
      }
     ],
     "prompt_number": 44
    },
    {
     "cell_type": "code",
     "collapsed": false,
     "input": [],
     "language": "python",
     "metadata": {},
     "outputs": []
    }
   ],
   "metadata": {}
  }
 ]
}