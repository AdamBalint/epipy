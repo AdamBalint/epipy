{
 "metadata": {
  "name": "cluster_builder"
 },
 "nbformat": 3,
 "nbformat_minor": 0,
 "worksheets": [
  {
   "cells": [
    {
     "cell_type": "markdown",
     "metadata": {},
     "source": [
      "# Basic transmission tree builder\n",
      "\n",
      "* Caitlin Rivers\n",
      "\n",
      "* Virginia Bioinformatics Institute at Virginia Tech\n",
      "\n",
      "* cmrivers@vbi.vt.edu\n",
      "\n",
      "-------\n",
      "\n",
      "Given a line listing with dates and basic information about cluster membership, this script will estimate who transmitted an infectious disease to whom based on case onset dates.\n",
      "\n",
      "Wish list for improvements:\n",
      "\n",
      "* Find a way to keep single cases (e.g. those not part of a cluster) in the data set so they can be plotted on the casetree.\n",
      "\n",
      "* Fix plot_cluster() function so it is functional"
     ]
    },
    {
     "cell_type": "code",
     "collapsed": false,
     "input": [
      "from itertools import cycle\n",
      "from matplotlib import pyplot as plt\n",
      "from random import choice\n",
      "import numpy as np\n",
      "from datetime import datetime, timedelta\n",
      "import pandas as pd"
     ],
     "language": "python",
     "metadata": {},
     "outputs": [],
     "prompt_number": 8
    },
    {
     "cell_type": "code",
     "collapsed": false,
     "input": [
      "def date_convert(x):\n",
      "    \"\"\" Convert dates to datetime object\n",
      "    \"\"\"\n",
      "    try:\n",
      "        y = datetime.strptime(x, \"%Y-%m-%d\")\n",
      "    except:\n",
      "        y = np.nan\n",
      "        \n",
      "    return y"
     ],
     "language": "python",
     "metadata": {},
     "outputs": [],
     "prompt_number": 9
    },
    {
     "cell_type": "markdown",
     "metadata": {},
     "source": [
      "Data (from 2013 MERS outbreak) are available in cmrivers/epipy repo on Github."
     ]
    },
    {
     "cell_type": "code",
     "collapsed": false,
     "input": [
      "dat = pd.read_csv(\"./Line list & epi stats - Line list.csv\", parse_dates=True)\n",
      "dat['Cluster ID'] = dat['Cluster ID'].replace(np.nan, 'single')\n",
      "dat.index = dat['Cluster ID']"
     ],
     "language": "python",
     "metadata": {},
     "outputs": [],
     "prompt_number": 19
    },
    {
     "cell_type": "code",
     "collapsed": false,
     "input": [
      "dat['onset_date'] = dat['Approx onset date'].map(date_convert)\n",
      "dat['report_date'] = dat['Approx reporting date'].map(date_convert)\n",
      "dat['dates'] = dat['onset_date'].combine_first(dat['report_date']) #combines onset and report date columns, with onset date preferential"
     ],
     "language": "python",
     "metadata": {},
     "outputs": [],
     "prompt_number": 20
    },
    {
     "cell_type": "code",
     "collapsed": false,
     "input": [
      "def _group_clusters(df, cluster_id, date_col):\n",
      "    ''' Use pandas to group clusters by basic cluster membership information\n",
      "    df = pandas dataframe\n",
      "    cluster_id = column that identifies cluster membership, which can be a basic string like \"hospital cluster A\"\n",
      "    date_col = onset or report date column\n",
      "    '''\n",
      "    clusters = df[df[cluster_id] != 'single']\n",
      "    clusters = clusters[clusters[date_col].notnull()]\n",
      "    \n",
      "    groups = clusters.groupby(clusters[cluster_id])\n",
      "    \n",
      "    return groups\n"
     ],
     "language": "python",
     "metadata": {},
     "outputs": [],
     "prompt_number": 12
    },
    {
     "cell_type": "code",
     "collapsed": false,
     "input": [
      "def cluster_builder(df, cluster_id, case_id, date_col, color_col, inc_mean, inc_sd):\n",
      "    '''\n",
      "    Given a line listing with dates and basic information about cluster membership,\n",
      "    this script will estimate who transmitted an infectious disease to whom based on case onset dates.\n",
      "\n",
      "    df = pandas dataframe of line listing\n",
      "    cluster_id = col that identifies cluster membership, which can be a basic string like \"hospital cluster A\"\n",
      "    case_id = col with unique case identifier\n",
      "    date_col = onset or report date column\n",
      "    color_col = column that will be used to color nodes based on attribute, e.g. case severity or gender\n",
      "    inc_mean = incubation period mean\n",
      "    inc_sd = incubation period standard deviation\n",
      "\n",
      "    retuns clusters (pandas dataframe) and mx (network x object)\n",
      "    '''\n",
      "    clusters = _group_clusters(df, cluster_id, date_col)\n",
      "    grpnames = np.unique(df[cluster_id]).dropna().values\n",
      "    \n",
      "    mmin = timedelta(inc_mean - (1 * inc_sd), 0)\n",
      "    mmax = timedelta(inc_mean + (1 * inc_sd), 0)\n",
      "    \n",
      "    mx = []\n",
      "    for key, group in clusters:\n",
      "        row = [tmp[1:4] for tmp in group[[case_id, date_col, color_col]].sort('dates').itertuples()] #suspect this will be buggy with dif data sets, woudl like to improve\n",
      "        mx.append(row)\n",
      "\n",
      "    network = []\n",
      "    for ix in range(0, len(mx)):\n",
      "        for inx in range(0, len(mx[ix])):\n",
      "            index_node = mx[ix][0][0]\n",
      "            source_node = index_node\n",
      "            case_id = mx[ix][inx][0]\n",
      "            time = mx[ix][inx][1]\n",
      "            color = mx[ix][inx][2]\n",
      "            \n",
      "            if len(mx[ix]) > 1:\n",
      "               if mx[ix][inx][1] - mx[ix][inx-1][1] > mmin:\n",
      "                    source_node = mx[ix][inx-1][0]\n",
      "        \n",
      "            result = (case_id, color, index_node, source_node, time)\n",
      "            network.append(result)\n",
      "            \n",
      "    df_out = pd.DataFrame(network, columns=['case_id', 'color', 'index_node', 'source_node', 'time'])\n",
      "    df_out.index = df_out.case_id\n",
      "    \n",
      "    return clusters, mx"
     ],
     "language": "python",
     "metadata": {},
     "outputs": [],
     "prompt_number": 23
    },
    {
     "cell_type": "code",
     "collapsed": false,
     "input": [
      "clusters, mx = cluster_builder(dat, 'Cluster ID', 'Case #', 'dates', 'Health status', 7, 5)"
     ],
     "language": "python",
     "metadata": {},
     "outputs": [],
     "prompt_number": 25
    },
    {
     "cell_type": "code",
     "collapsed": false,
     "input": [
      "mx.save('./cluster_network.pkl')"
     ],
     "language": "python",
     "metadata": {},
     "outputs": [],
     "prompt_number": 16
    },
    {
     "cell_type": "code",
     "collapsed": false,
     "input": [
      "def plot_cluster(df, cluster_id, date_col):\n",
      "    \"\"\"Broken. Date-handling patience gone.\n",
      "\n",
      "    Should display a plot with time along x axis, cluster ID along y axis,\n",
      "    and case ID plotted like a scatterplot accordingly.\n",
      "    \"\"\"\n",
      "    grpnames = np.unique(df[cluster_id]).dropna().values\n",
      "    \n",
      "    fig, ax = plt.subplots()\n",
      "    fig.set_size_inches(8, 5)\n",
      "    ax.xaxis_date()\n",
      "    ax.set_aspect('auto')\n",
      "    axprop =  plt.axis()\n",
      "    fig.autofmt_xdate()\n",
      "    \n",
      "    plt.ylim(1, len(grpnames))\n",
      "    plt.yticks(np.arange(len(grpnames)), grpnames)\n",
      "    \n",
      "    for key, group in clusters:\n",
      "        for date in date_col:\n",
      "            xtog = timedelta(((10*axprop[1]-axprop[0])/axprop[1]), 0, 0)\n",
      "            x1 = [date, date+xtog]\n",
      "    \n",
      "            for i in range(len(grpnames)):\n",
      "                if key == grpnames[i]:\n",
      "                    y1 = np.array([i, i])\n",
      "                    y2 = y1+0.5\n",
      "                    plt.fill_between(x1, y1, y2, color=color, alpha=.3)\n",
      "                    \n",
      "                    xspot= x1[0] + timedelta((x1[1] - x1[0]).days/2.0, 0, 0)\n",
      "                    \n",
      "                    plt.text(xspot, y1[1]+.25, next(casenums), horizontalalignment='center', verticalalignment='center', fontsize=9)\n",
      "                    \n",
      "    return fig"
     ],
     "language": "python",
     "metadata": {},
     "outputs": [],
     "prompt_number": 31
    },
    {
     "cell_type": "code",
     "collapsed": false,
     "input": [
      "plot_cluster(dat, 'Cluster ID', 'dates')"
     ],
     "language": "python",
     "metadata": {},
     "outputs": [
      {
       "ename": "TypeError",
       "evalue": "cannot concatenate 'str' and 'datetime.timedelta' objects",
       "output_type": "pyerr",
       "traceback": [
        "\u001b[0;31m---------------------------------------------------------------------------\u001b[0m\n\u001b[0;31mTypeError\u001b[0m                                 Traceback (most recent call last)",
        "\u001b[0;32m<ipython-input-32-96230568af22>\u001b[0m in \u001b[0;36m<module>\u001b[0;34m()\u001b[0m\n\u001b[0;32m----> 1\u001b[0;31m \u001b[0mplot_cluster\u001b[0m\u001b[0;34m(\u001b[0m\u001b[0mdat\u001b[0m\u001b[0;34m,\u001b[0m \u001b[0;34m'Cluster ID'\u001b[0m\u001b[0;34m,\u001b[0m \u001b[0;34m'dates'\u001b[0m\u001b[0;34m)\u001b[0m\u001b[0;34m\u001b[0m\u001b[0m\n\u001b[0m",
        "\u001b[0;32m<ipython-input-31-7bdcb2290b2f>\u001b[0m in \u001b[0;36mplot_cluster\u001b[0;34m(df, cluster_id, date_col)\u001b[0m\n\u001b[1;32m     15\u001b[0m         \u001b[0;32mfor\u001b[0m \u001b[0mdate\u001b[0m \u001b[0;32min\u001b[0m \u001b[0mdate_col\u001b[0m\u001b[0;34m:\u001b[0m\u001b[0;34m\u001b[0m\u001b[0m\n\u001b[1;32m     16\u001b[0m             \u001b[0mxtog\u001b[0m \u001b[0;34m=\u001b[0m \u001b[0mtimedelta\u001b[0m\u001b[0;34m(\u001b[0m\u001b[0;34m(\u001b[0m\u001b[0;34m(\u001b[0m\u001b[0;36m10\u001b[0m\u001b[0;34m*\u001b[0m\u001b[0maxprop\u001b[0m\u001b[0;34m[\u001b[0m\u001b[0;36m1\u001b[0m\u001b[0;34m]\u001b[0m\u001b[0;34m-\u001b[0m\u001b[0maxprop\u001b[0m\u001b[0;34m[\u001b[0m\u001b[0;36m0\u001b[0m\u001b[0;34m]\u001b[0m\u001b[0;34m)\u001b[0m\u001b[0;34m/\u001b[0m\u001b[0maxprop\u001b[0m\u001b[0;34m[\u001b[0m\u001b[0;36m1\u001b[0m\u001b[0;34m]\u001b[0m\u001b[0;34m)\u001b[0m\u001b[0;34m,\u001b[0m \u001b[0;36m0\u001b[0m\u001b[0;34m,\u001b[0m \u001b[0;36m0\u001b[0m\u001b[0;34m)\u001b[0m\u001b[0;34m\u001b[0m\u001b[0m\n\u001b[0;32m---> 17\u001b[0;31m             \u001b[0mx1\u001b[0m \u001b[0;34m=\u001b[0m \u001b[0;34m[\u001b[0m\u001b[0mdate\u001b[0m\u001b[0;34m,\u001b[0m \u001b[0mdate\u001b[0m\u001b[0;34m+\u001b[0m\u001b[0mxtog\u001b[0m\u001b[0;34m]\u001b[0m\u001b[0;34m\u001b[0m\u001b[0m\n\u001b[0m\u001b[1;32m     18\u001b[0m \u001b[0;34m\u001b[0m\u001b[0m\n\u001b[1;32m     19\u001b[0m             \u001b[0;32mfor\u001b[0m \u001b[0mi\u001b[0m \u001b[0;32min\u001b[0m \u001b[0mrange\u001b[0m\u001b[0;34m(\u001b[0m\u001b[0mlen\u001b[0m\u001b[0;34m(\u001b[0m\u001b[0mgrpnames\u001b[0m\u001b[0;34m)\u001b[0m\u001b[0;34m)\u001b[0m\u001b[0;34m:\u001b[0m\u001b[0;34m\u001b[0m\u001b[0m\n",
        "\u001b[0;31mTypeError\u001b[0m: cannot concatenate 'str' and 'datetime.timedelta' objects"
       ]
      },
      {
       "output_type": "display_data",
       "png": "[encoded data removed]"
      }
     ],
     "prompt_number": 32
    },
    {
     "cell_type": "code",
     "collapsed": false,
     "input": [],
     "language": "python",
     "metadata": {},
     "outputs": []
    }
   ],
   "metadata": {}
  }
 ]
}