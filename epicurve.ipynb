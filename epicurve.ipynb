{
 "metadata": {
  "name": "epicurve"
 },
 "nbformat": 3,
 "nbformat_minor": 0,
 "worksheets": [
  {
   "cells": [
    {
     "cell_type": "code",
     "collapsed": false,
     "input": [
      "import pandas as pd\n",
      "from __future__ import division\n",
      "from matplotlib import pyplot as plt\n",
      "from datetime import datetime"
     ],
     "language": "python",
     "metadata": {},
     "outputs": [],
     "prompt_number": 1
    },
    {
     "cell_type": "code",
     "collapsed": false,
     "input": [
      "def _date_convert(x, frmt):\n",
      "    '''\n",
      "    '''\n",
      "    try:\n",
      "        y = datetime.strptime(x, frmt)\n",
      "    except:\n",
      "        y = np.nan\n",
      "        \n",
      "    return y"
     ],
     "language": "python",
     "metadata": {},
     "outputs": [],
     "prompt_number": 2
    },
    {
     "cell_type": "code",
     "collapsed": false,
     "input": [
      "epi = pd.read_csv(\"/Users/cmrivers/Downloads/Line list & epi stats - Line list.csv\", parse_dates=True)\n",
      "epi['onset_date'] = epi['Approx onset date'].map(lambda x: _date_convert(x, '%Y-%m-%d'))\n",
      "epi['report_date'] = epi['Approx reporting date'].map(lambda x: _date_convert(x, '%Y-%m-%d'))\n",
      "epi['dates'] = epi['onset_date'].combine_first(epi['report_date'])"
     ],
     "language": "python",
     "metadata": {},
     "outputs": [],
     "prompt_number": 3
    },
    {
     "cell_type": "code",
     "collapsed": false,
     "input": [
      "def epicurve(df, date_col, freq, title=None, date_format=\"%Y-%m-%d\"):\n",
      "    '''\n",
      "    '''\n",
      "    freq = freq.lower()[0]  # 'day' -> 'd', 'month' -> 'm', or 'year' -> 'y'; 'd' -> 'd', ...\n",
      "    df.new_col = df[date_col] #df[date_col].map(lambda x: _date_convert(x, date_format))\n",
      "\n",
      "    if freq == 'd':\n",
      "        counts = epi['dates'].value_counts()\n",
      "        print counts\n",
      "        epicurve = pd.DataFrame(df[date_col].value_counts(), columns=['count'])\n",
      "\n",
      "        \n",
      "    elif freq == 'm':\n",
      "        format_date = df.new_col.dropna().map(lambda x: str(x.strftime(\"%Y/%m\")))\n",
      "        form = format_date.map(lambda x: _date_convert(x, \"%Y/%m\"))\n",
      "        epicurve = pd.DataFrame(form.value_counts(), columns=['count'])\n",
      "        \n",
      "    elif freq == 'y':\n",
      "        df.new_col = df.new_col.dropna().map(lambda x: x.year)\n",
      "        epicurve = pd.DataFrame(df.new_col.value_counts(), columns=['count'])\n",
      "        \n",
      "    _plot(epicurve, freq, title=date_col)"
     ],
     "language": "python",
     "metadata": {},
     "outputs": [],
     "prompt_number": 4
    },
    {
     "cell_type": "code",
     "collapsed": false,
     "input": [
      "def _plot(freq_table, freq, title):\n",
      "    '''\n",
      "    '''\n",
      "    fig, ax = plt.subplots()\n",
      "    freq_table['plotdates'] = freq_table.index\n",
      "    print freq_table.plotdates\n",
      "\n",
      "    # care about date formatting\n",
      "    if freq == 'd':\n",
      "        wid = .1\n",
      "        ax.xaxis_date()\n",
      "        fig.autofmt_xdate()\n",
      "        \n",
      "    elif freq == 'm':\n",
      "        ax.xaxis_date()\n",
      "        fig.autofmt_xdate()\n",
      "        wid = len(freq_table)\n",
      "    \n",
      "    elif freq == 'y':\n",
      "        locs = freq_table['plotdates'].values.tolist()\n",
      "        labels = [str(loc) for loc in locs]\n",
      "        wid =1 \n",
      "        ax.set_xticks(locs)\n",
      "        ax.set_xticklabels(labels)\n",
      "                \n",
      "    ax.bar(freq_table['plotdates'].values, freq_table['count'].values, width=wid, align='center')\n",
      "    ax.set_title(title)"
     ],
     "language": "python",
     "metadata": {},
     "outputs": [],
     "prompt_number": 5
    },
    {
     "cell_type": "code",
     "collapsed": false,
     "input": [
      "epicurve(epi, date_col='dates', freq='day')\n",
      "plt.title('Approximate onset or report date')\n",
      "plt.savefig('/Users/cmrivers/Desktop/day.png')"
     ],
     "language": "python",
     "metadata": {},
     "outputs": [
      {
       "output_type": "stream",
       "stream": "stdout",
       "text": [
        "1970-01-20 08:00:00    15\n",
        "1970-01-22 00:00:00     9\n",
        "1970-01-16 16:00:00     7\n",
        "1970-01-16 08:00:00     7\n",
        "1970-01-24 16:00:00     7\n",
        "1970-01-22 08:00:00     6\n",
        "1970-01-22 16:00:00     6\n",
        "1970-01-24 00:00:00     5\n",
        "1970-01-26 00:00:00     5\n",
        "1970-01-25 16:00:00     5\n",
        "1970-01-19 08:00:00     5\n",
        "1970-01-21 16:00:00     5\n",
        "1970-01-25 00:00:00     5\n",
        "1970-01-19 16:00:00     4\n",
        "1970-01-17 00:00:00     4\n",
        "1970-01-26 08:00:00     4\n",
        "1970-01-17 08:00:00     4\n",
        "1970-01-18 16:00:00     4\n",
        "1970-01-23 00:00:00     4\n",
        "1970-01-18 08:00:00     3\n",
        "1970-01-21 00:00:00     3\n",
        "1970-01-25 08:00:00     3\n",
        "1970-01-24 08:00:00     3\n",
        "1970-01-19 00:00:00     3\n",
        "1970-01-20 00:00:00     2\n",
        "1970-01-20 16:00:00     2\n",
        "1970-01-17 16:00:00     2\n",
        "1970-01-18 00:00:00     1\n",
        "1970-01-16 00:00:00     1\n",
        "1970-01-23 08:00:00     1\n",
        "1970-01-23 16:00:00     1\n",
        "1970-01-20 08:00:00   1970-01-20 08:00:00\n",
        "1970-01-22 00:00:00   1970-01-22 00:00:00\n",
        "1970-01-16 16:00:00   1970-01-16 16:00:00\n",
        "1970-01-16 08:00:00   1970-01-16 08:00:00\n",
        "1970-01-24 16:00:00   1970-01-24 16:00:00\n",
        "1970-01-22 08:00:00   1970-01-22 08:00:00\n",
        "1970-01-22 16:00:00   1970-01-22 16:00:00\n",
        "1970-01-24 00:00:00   1970-01-24 00:00:00\n",
        "1970-01-26 00:00:00   1970-01-26 00:00:00\n",
        "1970-01-25 16:00:00   1970-01-25 16:00:00\n",
        "1970-01-19 08:00:00   1970-01-19 08:00:00\n",
        "1970-01-21 16:00:00   1970-01-21 16:00:00\n",
        "1970-01-25 00:00:00   1970-01-25 00:00:00\n",
        "1970-01-19 16:00:00   1970-01-19 16:00:00\n",
        "1970-01-17 00:00:00   1970-01-17 00:00:00\n",
        "1970-01-26 08:00:00   1970-01-26 08:00:00\n",
        "1970-01-17 08:00:00   1970-01-17 08:00:00\n",
        "1970-01-18 16:00:00   1970-01-18 16:00:00\n",
        "1970-01-23 00:00:00   1970-01-23 00:00:00\n",
        "1970-01-18 08:00:00   1970-01-18 08:00:00\n",
        "1970-01-21 00:00:00   1970-01-21 00:00:00\n",
        "1970-01-25 08:00:00   1970-01-25 08:00:00\n",
        "1970-01-24 08:00:00   1970-01-24 08:00:00\n",
        "1970-01-19 00:00:00   1970-01-19 00:00:00\n",
        "1970-01-20 00:00:00   1970-01-20 00:00:00\n",
        "1970-01-20 16:00:00   1970-01-20 16:00:00\n",
        "1970-01-17 16:00:00   1970-01-17 16:00:00\n",
        "1970-01-18 00:00:00   1970-01-18 00:00:00\n",
        "1970-01-16 00:00:00   1970-01-16 00:00:00\n",
        "1970-01-23 08:00:00   1970-01-23 08:00:00\n",
        "1970-01-23 16:00:00   1970-01-23 16:00:00\n",
        "Name: plotdates\n"
       ]
      },
      {
       "output_type": "display_data",
       "png": "[encoded data removed]"
      }
     ],
     "prompt_number": 6
    },
    {
     "cell_type": "code",
     "collapsed": false,
     "input": [
      "epicurve(epi, 'dates', freq='y')"
     ],
     "language": "python",
     "metadata": {},
     "outputs": [
      {
       "output_type": "stream",
       "stream": "stdout",
       "text": [
        "2013    2013\n",
        "2012    2012\n",
        "Name: plotdates\n"
       ]
      },
      {
       "output_type": "display_data",
       "png": "[encoded data removed]"
      }
     ],
     "prompt_number": 7
    },
    {
     "cell_type": "code",
     "collapsed": false,
     "input": [
      "epicurve(epi, 'dates', freq='month')\n",
      "plt.title('Approximate onset or report date')\n",
      "plt.savefig('/Users/cmrivers/Desktop//month.png')"
     ],
     "language": "python",
     "metadata": {},
     "outputs": [
      {
       "output_type": "stream",
       "stream": "stdout",
       "text": [
        "2013-06-01   2013-06-01 00:00:00\n",
        "2013-09-01   2013-09-01 00:00:00\n",
        "2013-04-01   2013-04-01 00:00:00\n",
        "2013-08-01   2013-08-01 00:00:00\n",
        "2013-07-01   2013-07-01 00:00:00\n",
        "2013-05-01   2013-05-01 00:00:00\n",
        "2013-02-01   2013-02-01 00:00:00\n",
        "2012-10-01   2012-10-01 00:00:00\n",
        "2013-01-01   2013-01-01 00:00:00\n",
        "2013-03-01   2013-03-01 00:00:00\n",
        "2012-04-01   2012-04-01 00:00:00\n",
        "2012-06-01   2012-06-01 00:00:00\n",
        "2012-09-01   2012-09-01 00:00:00\n",
        "2012-11-01   2012-11-01 00:00:00\n",
        "Name: plotdates\n"
       ]
      },
      {
       "output_type": "display_data",
       "png": "[encoded data removed]"
      }
     ],
     "prompt_number": 8
    },
    {
     "cell_type": "code",
     "collapsed": false,
     "input": [
      "dates = pd.DataFrame(epi.dates.value_counts())\n",
      "print dates\n",
      "ts = dates.reindex(pd.date_range(min(dates.index), max(dates.index), freq='D'))"
     ],
     "language": "python",
     "metadata": {},
     "outputs": [
      {
       "output_type": "stream",
       "stream": "stdout",
       "text": [
        "                      0\n",
        "1970-01-20 08:00:00  15\n",
        "1970-01-22 00:00:00   9\n",
        "1970-01-16 16:00:00   7\n",
        "1970-01-16 08:00:00   7\n",
        "1970-01-24 16:00:00   7\n",
        "1970-01-22 08:00:00   6\n",
        "1970-01-22 16:00:00   6\n",
        "1970-01-24 00:00:00   5\n",
        "1970-01-26 00:00:00   5\n",
        "1970-01-25 16:00:00   5\n",
        "1970-01-19 08:00:00   5\n",
        "1970-01-21 16:00:00   5\n",
        "1970-01-25 00:00:00   5\n",
        "1970-01-19 16:00:00   4\n",
        "1970-01-17 00:00:00   4\n",
        "1970-01-26 08:00:00   4\n",
        "1970-01-17 08:00:00   4\n",
        "1970-01-18 16:00:00   4\n",
        "1970-01-23 00:00:00   4\n",
        "1970-01-18 08:00:00   3\n",
        "1970-01-21 00:00:00   3\n",
        "1970-01-25 08:00:00   3\n",
        "1970-01-24 08:00:00   3\n",
        "1970-01-19 00:00:00   3\n",
        "1970-01-20 00:00:00   2\n",
        "1970-01-20 16:00:00   2\n",
        "1970-01-17 16:00:00   2\n",
        "1970-01-18 00:00:00   1\n",
        "1970-01-16 00:00:00   1\n",
        "1970-01-23 08:00:00   1\n",
        "1970-01-23 16:00:00   1\n"
       ]
      }
     ],
     "prompt_number": 9
    },
    {
     "cell_type": "code",
     "collapsed": false,
     "input": [
      "ts"
     ],
     "language": "python",
     "metadata": {},
     "outputs": [
      {
       "html": [
        "<div style=\"max-height:1000px;max-width:1500px;overflow:auto;\">\n",
        "<table border=\"1\" class=\"dataframe\">\n",
        "  <thead>\n",
        "    <tr style=\"text-align: right;\">\n",
        "      <th></th>\n",
        "      <th>0</th>\n",
        "    </tr>\n",
        "  </thead>\n",
        "  <tbody>\n",
        "    <tr>\n",
        "      <th>1970-01-16</th>\n",
        "      <td> 1</td>\n",
        "    </tr>\n",
        "    <tr>\n",
        "      <th>1970-01-17</th>\n",
        "      <td> 4</td>\n",
        "    </tr>\n",
        "    <tr>\n",
        "      <th>1970-01-18</th>\n",
        "      <td> 1</td>\n",
        "    </tr>\n",
        "    <tr>\n",
        "      <th>1970-01-19</th>\n",
        "      <td> 3</td>\n",
        "    </tr>\n",
        "    <tr>\n",
        "      <th>1970-01-20</th>\n",
        "      <td> 2</td>\n",
        "    </tr>\n",
        "    <tr>\n",
        "      <th>1970-01-21</th>\n",
        "      <td> 3</td>\n",
        "    </tr>\n",
        "    <tr>\n",
        "      <th>1970-01-22</th>\n",
        "      <td> 9</td>\n",
        "    </tr>\n",
        "    <tr>\n",
        "      <th>1970-01-23</th>\n",
        "      <td> 4</td>\n",
        "    </tr>\n",
        "    <tr>\n",
        "      <th>1970-01-24</th>\n",
        "      <td> 5</td>\n",
        "    </tr>\n",
        "    <tr>\n",
        "      <th>1970-01-25</th>\n",
        "      <td> 5</td>\n",
        "    </tr>\n",
        "    <tr>\n",
        "      <th>1970-01-26</th>\n",
        "      <td> 5</td>\n",
        "    </tr>\n",
        "  </tbody>\n",
        "</table>\n",
        "</div>"
       ],
       "output_type": "pyout",
       "prompt_number": 10,
       "text": [
        "            0\n",
        "1970-01-16  1\n",
        "1970-01-17  4\n",
        "1970-01-18  1\n",
        "1970-01-19  3\n",
        "1970-01-20  2\n",
        "1970-01-21  3\n",
        "1970-01-22  9\n",
        "1970-01-23  4\n",
        "1970-01-24  5\n",
        "1970-01-25  5\n",
        "1970-01-26  5"
       ]
      }
     ],
     "prompt_number": 10
    },
    {
     "cell_type": "code",
     "collapsed": false,
     "input": [],
     "language": "python",
     "metadata": {},
     "outputs": [],
     "prompt_number": 10
    }
   ],
   "metadata": {}
  }
 ]
}