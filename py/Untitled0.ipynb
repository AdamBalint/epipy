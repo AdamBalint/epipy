{
 "metadata": {
  "name": ""
 },
 "nbformat": 3,
 "nbformat_minor": 0,
 "worksheets": [
  {
   "cells": [
    {
     "cell_type": "code",
     "collapsed": true,
     "input": [
      "%run cluster_builder.py"
     ],
     "language": "python",
     "metadata": {},
     "outputs": [
      {
       "output_type": "stream",
       "stream": "stderr",
       "text": [
        "/home/caitlin/epipy/py/cluster_builder.py:91: SyntaxWarning: name 'cluster_obj' is assigned to before global declaration\n",
        "  global cluster_obj\n"
       ]
      }
     ],
     "prompt_number": 19
    },
    {
     "cell_type": "code",
     "collapsed": false,
     "input": [
      "%run case_tree.py"
     ],
     "language": "python",
     "metadata": {},
     "outputs": [],
     "prompt_number": 63
    },
    {
     "cell_type": "code",
     "collapsed": false,
     "input": [
      "cluster_obj"
     ],
     "language": "python",
     "metadata": {},
     "outputs": [
      {
       "metadata": {},
       "output_type": "pyout",
       "prompt_number": 20,
       "text": [
        "[[(33, Timestamp('2014-03-06 00:00:00', tz=None), 'H'),\n",
        "  (32, Timestamp('2014-03-07 00:00:00', tz=None), 'H'),\n",
        "  (34, Timestamp('2014-03-07 00:00:00', tz=None), 'H'),\n",
        "  (31, Timestamp('2014-03-11 00:00:00', tz=None), 'H')],\n",
        " [(4, Timestamp('2014-02-10 00:00:00', tz=None), 'L'),\n",
        "  (5, Timestamp('2014-02-13 00:00:00', tz=None), 'L'),\n",
        "  (6, Timestamp('2014-02-15 00:00:00', tz=None), 'L'),\n",
        "  (8, Timestamp('2014-02-15 00:00:00', tz=None), 'L'),\n",
        "  (7, Timestamp('2014-02-21 00:00:00', tz=None), 'L'),\n",
        "  (3, Timestamp('2014-02-23 00:00:00', tz=None), 'L')],\n",
        " [(0, Timestamp('2014-03-09 00:00:00', tz=None), 'O'),\n",
        "  (1, Timestamp('2014-03-15 00:00:00', tz=None), 'O'),\n",
        "  (2, Timestamp('2014-03-20 00:00:00', tz=None), 'O')],\n",
        " [(17, Timestamp('2014-03-14 00:00:00', tz=None), 'Q'),\n",
        "  (14, Timestamp('2014-03-18 00:00:00', tz=None), 'Q'),\n",
        "  (12, Timestamp('2014-03-20 00:00:00', tz=None), 'Q'),\n",
        "  (16, Timestamp('2014-03-22 00:00:00', tz=None), 'Q'),\n",
        "  (15, Timestamp('2014-03-28 00:00:00', tz=None), 'Q'),\n",
        "  (13, Timestamp('2014-03-29 00:00:00', tz=None), 'Q')],\n",
        " [(21, Timestamp('2014-01-09 00:00:00', tz=None), 'R'),\n",
        "  (20, Timestamp('2014-01-10 00:00:00', tz=None), 'R'),\n",
        "  (22, Timestamp('2014-01-12 00:00:00', tz=None), 'R'),\n",
        "  (18, Timestamp('2014-01-15 00:00:00', tz=None), 'R'),\n",
        "  (23, Timestamp('2014-01-19 00:00:00', tz=None), 'R'),\n",
        "  (19, Timestamp('2014-01-20 00:00:00', tz=None), 'R'),\n",
        "  (24, Timestamp('2014-01-28 00:00:00', tz=None), 'R')],\n",
        " [(46, Timestamp('2014-01-08 00:00:00', tz=None), 'W'),\n",
        "  (47, Timestamp('2014-01-20 00:00:00', tz=None), 'W')],\n",
        " [(41, Timestamp('2014-01-29 00:00:00', tz=None), 'f'),\n",
        "  (44, Timestamp('2014-01-29 00:00:00', tz=None), 'f'),\n",
        "  (37, Timestamp('2014-01-31 00:00:00', tz=None), 'f'),\n",
        "  (40, Timestamp('2014-02-01 00:00:00', tz=None), 'f'),\n",
        "  (36, Timestamp('2014-02-06 00:00:00', tz=None), 'f'),\n",
        "  (38, Timestamp('2014-02-09 00:00:00', tz=None), 'f'),\n",
        "  (39, Timestamp('2014-02-09 00:00:00', tz=None), 'f'),\n",
        "  (43, Timestamp('2014-02-10 00:00:00', tz=None), 'f'),\n",
        "  (35, Timestamp('2014-02-12 00:00:00', tz=None), 'f'),\n",
        "  (42, Timestamp('2014-02-13 00:00:00', tz=None), 'f')],\n",
        " [(29, Timestamp('2014-01-10 00:00:00', tz=None), 's'),\n",
        "  (25, Timestamp('2014-01-11 00:00:00', tz=None), 's'),\n",
        "  (28, Timestamp('2014-01-19 00:00:00', tz=None), 's'),\n",
        "  (27, Timestamp('2014-01-21 00:00:00', tz=None), 's'),\n",
        "  (26, Timestamp('2014-01-24 00:00:00', tz=None), 's'),\n",
        "  (30, Timestamp('2014-01-24 00:00:00', tz=None), 's')],\n",
        " [(11, Timestamp('2014-01-21 00:00:00', tz=None), 'w'),\n",
        "  (9, Timestamp('2014-02-02 00:00:00', tz=None), 'w'),\n",
        "  (10, Timestamp('2014-02-02 00:00:00', tz=None), 'w')]]"
       ]
      }
     ],
     "prompt_number": 20
    },
    {
     "cell_type": "code",
     "collapsed": false,
     "input": [
      "cluster = cluster_obj[-2]\n",
      "cluster"
     ],
     "language": "python",
     "metadata": {},
     "outputs": [
      {
       "metadata": {},
       "output_type": "pyout",
       "prompt_number": 21,
       "text": [
        "[(29, Timestamp('2014-01-10 00:00:00', tz=None), 's'),\n",
        " (25, Timestamp('2014-01-11 00:00:00', tz=None), 's'),\n",
        " (28, Timestamp('2014-01-19 00:00:00', tz=None), 's'),\n",
        " (27, Timestamp('2014-01-21 00:00:00', tz=None), 's'),\n",
        " (26, Timestamp('2014-01-24 00:00:00', tz=None), 's'),\n",
        " (30, Timestamp('2014-01-24 00:00:00', tz=None), 's')]"
       ]
      }
     ],
     "prompt_number": 21
    },
    {
     "cell_type": "code",
     "collapsed": false,
     "input": [
      "cluster = np.array(cluster[::-1])\n",
      "ids = cluster[:, 0]\n",
      "dates = cluster[:, 1]\n",
      "names = cluster[:, 2]"
     ],
     "language": "python",
     "metadata": {},
     "outputs": [],
     "prompt_number": 22
    },
    {
     "cell_type": "code",
     "collapsed": false,
     "input": [
      "gen_mean, gen_sd = 5, 1\n",
      "gen_min = timedelta((gen_mean - gen_sd), 0)\n",
      "gen_max = timedelta((gen_mean + gen_sd), 0)"
     ],
     "language": "python",
     "metadata": {},
     "outputs": [],
     "prompt_number": 23
    },
    {
     "cell_type": "code",
     "collapsed": false,
     "input": [
      "ids"
     ],
     "language": "python",
     "metadata": {},
     "outputs": [
      {
       "metadata": {},
       "output_type": "pyout",
       "prompt_number": 24,
       "text": [
        "array([30, 26, 27, 28, 25, 29], dtype=object)"
       ]
      }
     ],
     "prompt_number": 24
    },
    {
     "cell_type": "code",
     "collapsed": false,
     "input": [
      "dates"
     ],
     "language": "python",
     "metadata": {},
     "outputs": [
      {
       "metadata": {},
       "output_type": "pyout",
       "prompt_number": 36,
       "text": [
        "array([Timestamp('2014-01-24 00:00:00', tz=None),\n",
        "       Timestamp('2014-01-24 00:00:00', tz=None),\n",
        "       Timestamp('2014-01-21 00:00:00', tz=None),\n",
        "       Timestamp('2014-01-19 00:00:00', tz=None),\n",
        "       Timestamp('2014-01-11 00:00:00', tz=None),\n",
        "       Timestamp('2014-01-10 00:00:00', tz=None)], dtype=object)"
       ]
      }
     ],
     "prompt_number": 36
    },
    {
     "cell_type": "code",
     "collapsed": false,
     "input": [
      "index_node = ids[-1]\n",
      "start_nodes = []\n",
      "for i, (date, idx) in enumerate(zip(dates, ids)):\n",
      "    start_date = date - gen_max\n",
      "    start_node = ids[dates >= start_date][-1]\n",
      "    \n",
      "    if start_node == idx and idx != index_node:\n",
      "        start_node = ids[i+1]\n",
      "    \n",
      "    start_nodes.append(start_node)"
     ],
     "language": "python",
     "metadata": {},
     "outputs": [],
     "prompt_number": 25
    },
    {
     "cell_type": "code",
     "collapsed": false,
     "input": [
      "start_nodes"
     ],
     "language": "python",
     "metadata": {},
     "outputs": [
      {
       "metadata": {},
       "output_type": "pyout",
       "prompt_number": 26,
       "text": [
        "[28, 28, 28, 25, 29, 29]"
       ]
      }
     ],
     "prompt_number": 26
    },
    {
     "cell_type": "code",
     "collapsed": false,
     "input": [
      "ids.tolist()"
     ],
     "language": "python",
     "metadata": {},
     "outputs": [
      {
       "metadata": {},
       "output_type": "pyout",
       "prompt_number": 27,
       "text": [
        "[30, 26, 27, 28, 25, 29]"
       ]
      }
     ],
     "prompt_number": 27
    },
    {
     "cell_type": "code",
     "collapsed": false,
     "input": [
      "dates.tolist()"
     ],
     "language": "python",
     "metadata": {},
     "outputs": [
      {
       "metadata": {},
       "output_type": "pyout",
       "prompt_number": 55,
       "text": [
        "[Timestamp('2014-01-24 00:00:00', tz=None),\n",
        " Timestamp('2014-01-24 00:00:00', tz=None),\n",
        " Timestamp('2014-01-21 00:00:00', tz=None),\n",
        " Timestamp('2014-01-19 00:00:00', tz=None),\n",
        " Timestamp('2014-01-11 00:00:00', tz=None),\n",
        " Timestamp('2014-01-10 00:00:00', tz=None)]"
       ]
      }
     ],
     "prompt_number": 55
    },
    {
     "cell_type": "code",
     "collapsed": false,
     "input": [
      "%load_ext autoreload\n",
      "%autoreload 2"
     ],
     "language": "python",
     "metadata": {},
     "outputs": [
      {
       "output_type": "stream",
       "stream": "stdout",
       "text": [
        "The autoreload extension is already loaded. To reload it, use:\n",
        "  %reload_ext autoreload\n"
       ]
      }
     ],
     "prompt_number": 30
    },
    {
     "cell_type": "code",
     "collapsed": false,
     "input": [
      "plt.close('all')"
     ],
     "language": "python",
     "metadata": {},
     "outputs": [],
     "prompt_number": 31
    },
    {
     "cell_type": "code",
     "collapsed": false,
     "input": [
      "import case_tree\n",
      "\n",
      "def plotting(G, node_size=200):\n",
      "    \"\"\" \n",
      "    Plot casetree\n",
      "    G = networkx object\n",
      "    node_size = on (display node) or off (display edge only). Default is on.\n",
      "    \"\"\"\n",
      "    fig, ax = plt.subplots(figsize=(12, 8))\n",
      "    ax.xaxis_date()\n",
      "    ax.set_aspect('auto')\n",
      "    axprop =  ax.axis()\n",
      "\n",
      "    mycoords = case_tree._layout(G, axprop)\n",
      "    plt.ylim(ymin=-.05, ymax=max([value[1] for value in mycoords.itervalues()])+1)\n",
      "     \n",
      "    values, legend = case_tree._colors(G, 'color') #this legend doesn't actually do anything. \n",
      "        \n",
      "    nx.draw_networkx(G, with_labels=False, pos=mycoords, node_color=values,\n",
      "                     edge_color=values, node_size=node_size, alpha=.4)\n",
      "\n",
      "    fig.autofmt_xdate()\n",
      "    \n",
      "    return fig, ax\n",
      "\n",
      "\n",
      "df = case_tree.example_data()\n",
      "G = case_tree.build_graph(df, color='color', case_id='case_id', source='source_node',\n",
      "                index='index_node', date='pltdate')\n",
      "plotting(G, node_size=0)"
     ],
     "language": "python",
     "metadata": {},
     "outputs": [
      {
       "metadata": {},
       "output_type": "pyout",
       "prompt_number": 51,
       "text": [
        "(<matplotlib.figure.Figure at 0x4f40590>,\n",
        " <matplotlib.axes.AxesSubplot at 0x3db9290>)"
       ]
      }
     ],
     "prompt_number": 51
    },
    {
     "cell_type": "code",
     "collapsed": false,
     "input": [
      "values, legend = _colors(G, 'color')"
     ],
     "language": "python",
     "metadata": {},
     "outputs": [],
     "prompt_number": 42
    },
    {
     "cell_type": "code",
     "collapsed": false,
     "input": [
      "values"
     ],
     "language": "python",
     "metadata": {},
     "outputs": [
      {
       "output_type": "stream",
       "stream": "stderr",
       "text": [
        "[autoreload of case_tree failed: Traceback (most recent call last):\n",
        "  File \"/home/caitlin/anaconda/lib/python2.7/site-packages/IPython/extensions/autoreload.py\", line 229, in check\n",
        "    superreload(m, reload, self.old_objects)\n",
        "ValueError: Collections can only map rank 1 arrays\n",
        "]\n"
       ]
      },
      {
       "metadata": {},
       "output_type": "pyout",
       "prompt_number": 52,
       "text": [
        "[array([ 0.80731896]),\n",
        " array([ 0.80731896]),\n",
        " array([ 0.80731896]),\n",
        " array([ 0.58990998]),\n",
        " array([ 0.58990998]),\n",
        " array([ 0.58990998]),\n",
        " array([ 0.58990998]),\n",
        " array([ 0.58990998]),\n",
        " array([ 0.58990998]),\n",
        " array([ 0.97552151]),\n",
        " array([ 0.97552151]),\n",
        " array([ 0.97552151]),\n",
        " array([ 0.69742877]),\n",
        " array([ 0.69742877]),\n",
        " array([ 0.69742877]),\n",
        " array([ 0.69742877]),\n",
        " array([ 0.69742877]),\n",
        " array([ 0.69742877]),\n",
        " array([ 0.22741463]),\n",
        " array([ 0.22741463]),\n",
        " array([ 0.22741463]),\n",
        " array([ 0.22741463]),\n",
        " array([ 0.22741463]),\n",
        " array([ 0.22741463]),\n",
        " array([ 0.22741463]),\n",
        " array([ 0.61396596]),\n",
        " array([ 0.61396596]),\n",
        " array([ 0.61396596]),\n",
        " array([ 0.61396596]),\n",
        " array([ 0.61396596]),\n",
        " array([ 0.61396596]),\n",
        " array([ 0.23789282]),\n",
        " array([ 0.23789282]),\n",
        " array([ 0.23789282]),\n",
        " array([ 0.23789282]),\n",
        " array([ 0.05433799]),\n",
        " array([ 0.05433799]),\n",
        " array([ 0.05433799]),\n",
        " array([ 0.05433799]),\n",
        " array([ 0.05433799]),\n",
        " array([ 0.05433799]),\n",
        " array([ 0.05433799]),\n",
        " array([ 0.05433799]),\n",
        " array([ 0.05433799]),\n",
        " array([ 0.05433799]),\n",
        " array([ 0.7220556]),\n",
        " array([ 0.7220556])]"
       ]
      }
     ],
     "prompt_number": 52
    },
    {
     "cell_type": "code",
     "collapsed": false,
     "input": [
      "fig, ax = plotting(G,  node_size=200)\n",
      "ax.set_title('MERS-CoV clusters')\n",
      "ax.set_ylabel('Generations')\n",
      "ax.grid(True)\n",
      "#fig.savefig('../figs/casetree.png', bbox_inches='tight')\n",
      "fig.savefig('../figs/test.png', bbox_inches='tight')\n",
      "plt.show()"
     ],
     "language": "python",
     "metadata": {},
     "outputs": [],
     "prompt_number": 11
    },
    {
     "cell_type": "code",
     "collapsed": false,
     "input": [
      "G.edges()"
     ],
     "language": "python",
     "metadata": {},
     "outputs": [
      {
       "metadata": {},
       "output_type": "pyout",
       "prompt_number": 40,
       "text": [
        "[(0, 0),\n",
        " (0, 1),\n",
        " (1, 2),\n",
        " (4, 8),\n",
        " (4, 4),\n",
        " (4, 5),\n",
        " (4, 6),\n",
        " (6, 7),\n",
        " (7, 3),\n",
        " (9, 10),\n",
        " (11, 9),\n",
        " (11, 11),\n",
        " (14, 16),\n",
        " (15, 13),\n",
        " (16, 15),\n",
        " (17, 17),\n",
        " (17, 12),\n",
        " (17, 14),\n",
        " (18, 19),\n",
        " (18, 23),\n",
        " (19, 24),\n",
        " (21, 18),\n",
        " (21, 20),\n",
        " (21, 21),\n",
        " (21, 22),\n",
        " (25, 28),\n",
        " (28, 26),\n",
        " (28, 27),\n",
        " (28, 30),\n",
        " (29, 25),\n",
        " (29, 29),\n",
        " (33, 32),\n",
        " (33, 33),\n",
        " (33, 34),\n",
        " (33, 31),\n",
        " (36, 43),\n",
        " (36, 35),\n",
        " (36, 38),\n",
        " (36, 39),\n",
        " (37, 36),\n",
        " (38, 42),\n",
        " (41, 40),\n",
        " (41, 41),\n",
        " (41, 44),\n",
        " (41, 37),\n",
        " (46, 46),\n",
        " (46, 47)]"
       ]
      }
     ],
     "prompt_number": 40
    },
    {
     "cell_type": "code",
     "collapsed": false,
     "input": [
      "len(G.nodes())"
     ],
     "language": "python",
     "metadata": {},
     "outputs": [
      {
       "metadata": {},
       "output_type": "pyout",
       "prompt_number": 38,
       "text": [
        "47"
       ]
      }
     ],
     "prompt_number": 38
    },
    {
     "cell_type": "code",
     "collapsed": false,
     "input": [],
     "language": "python",
     "metadata": {},
     "outputs": []
    }
   ],
   "metadata": {}
  }
 ]
}