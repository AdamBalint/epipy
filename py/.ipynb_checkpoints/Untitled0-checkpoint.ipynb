{
 "metadata": {
  "name": ""
 },
 "nbformat": 3,
 "nbformat_minor": 0,
 "worksheets": [
  {
   "cells": [
    {
     "cell_type": "code",
     "collapsed": true,
     "input": [
      "%run cluster_builder.py"
     ],
     "language": "python",
     "metadata": {},
     "outputs": [
      {
       "output_type": "stream",
       "stream": "stderr",
       "text": [
        "/home/caitlin/epipy/py/cluster_builder.py:91: SyntaxWarning: name 'cluster_obj' is assigned to before global declaration\n",
        "  global cluster_obj\n"
       ]
      }
     ],
     "prompt_number": 19
    },
    {
     "cell_type": "code",
     "collapsed": false,
     "input": [
      "%run case_tree.py"
     ],
     "language": "python",
     "metadata": {},
     "outputs": [],
     "prompt_number": 63
    },
    {
     "cell_type": "code",
     "collapsed": false,
     "input": [
      "cluster_obj"
     ],
     "language": "python",
     "metadata": {},
     "outputs": [
      {
       "metadata": {},
       "output_type": "pyout",
       "prompt_number": 20,
       "text": [
        "[[(33, Timestamp('2014-03-06 00:00:00', tz=None), 'H'),\n",
        "  (32, Timestamp('2014-03-07 00:00:00', tz=None), 'H'),\n",
        "  (34, Timestamp('2014-03-07 00:00:00', tz=None), 'H'),\n",
        "  (31, Timestamp('2014-03-11 00:00:00', tz=None), 'H')],\n",
        " [(4, Timestamp('2014-02-10 00:00:00', tz=None), 'L'),\n",
        "  (5, Timestamp('2014-02-13 00:00:00', tz=None), 'L'),\n",
        "  (6, Timestamp('2014-02-15 00:00:00', tz=None), 'L'),\n",
        "  (8, Timestamp('2014-02-15 00:00:00', tz=None), 'L'),\n",
        "  (7, Timestamp('2014-02-21 00:00:00', tz=None), 'L'),\n",
        "  (3, Timestamp('2014-02-23 00:00:00', tz=None), 'L')],\n",
        " [(0, Timestamp('2014-03-09 00:00:00', tz=None), 'O'),\n",
        "  (1, Timestamp('2014-03-15 00:00:00', tz=None), 'O'),\n",
        "  (2, Timestamp('2014-03-20 00:00:00', tz=None), 'O')],\n",
        " [(17, Timestamp('2014-03-14 00:00:00', tz=None), 'Q'),\n",
        "  (14, Timestamp('2014-03-18 00:00:00', tz=None), 'Q'),\n",
        "  (12, Timestamp('2014-03-20 00:00:00', tz=None), 'Q'),\n",
        "  (16, Timestamp('2014-03-22 00:00:00', tz=None), 'Q'),\n",
        "  (15, Timestamp('2014-03-28 00:00:00', tz=None), 'Q'),\n",
        "  (13, Timestamp('2014-03-29 00:00:00', tz=None), 'Q')],\n",
        " [(21, Timestamp('2014-01-09 00:00:00', tz=None), 'R'),\n",
        "  (20, Timestamp('2014-01-10 00:00:00', tz=None), 'R'),\n",
        "  (22, Timestamp('2014-01-12 00:00:00', tz=None), 'R'),\n",
        "  (18, Timestamp('2014-01-15 00:00:00', tz=None), 'R'),\n",
        "  (23, Timestamp('2014-01-19 00:00:00', tz=None), 'R'),\n",
        "  (19, Timestamp('2014-01-20 00:00:00', tz=None), 'R'),\n",
        "  (24, Timestamp('2014-01-28 00:00:00', tz=None), 'R')],\n",
        " [(46, Timestamp('2014-01-08 00:00:00', tz=None), 'W'),\n",
        "  (47, Timestamp('2014-01-20 00:00:00', tz=None), 'W')],\n",
        " [(41, Timestamp('2014-01-29 00:00:00', tz=None), 'f'),\n",
        "  (44, Timestamp('2014-01-29 00:00:00', tz=None), 'f'),\n",
        "  (37, Timestamp('2014-01-31 00:00:00', tz=None), 'f'),\n",
        "  (40, Timestamp('2014-02-01 00:00:00', tz=None), 'f'),\n",
        "  (36, Timestamp('2014-02-06 00:00:00', tz=None), 'f'),\n",
        "  (38, Timestamp('2014-02-09 00:00:00', tz=None), 'f'),\n",
        "  (39, Timestamp('2014-02-09 00:00:00', tz=None), 'f'),\n",
        "  (43, Timestamp('2014-02-10 00:00:00', tz=None), 'f'),\n",
        "  (35, Timestamp('2014-02-12 00:00:00', tz=None), 'f'),\n",
        "  (42, Timestamp('2014-02-13 00:00:00', tz=None), 'f')],\n",
        " [(29, Timestamp('2014-01-10 00:00:00', tz=None), 's'),\n",
        "  (25, Timestamp('2014-01-11 00:00:00', tz=None), 's'),\n",
        "  (28, Timestamp('2014-01-19 00:00:00', tz=None), 's'),\n",
        "  (27, Timestamp('2014-01-21 00:00:00', tz=None), 's'),\n",
        "  (26, Timestamp('2014-01-24 00:00:00', tz=None), 's'),\n",
        "  (30, Timestamp('2014-01-24 00:00:00', tz=None), 's')],\n",
        " [(11, Timestamp('2014-01-21 00:00:00', tz=None), 'w'),\n",
        "  (9, Timestamp('2014-02-02 00:00:00', tz=None), 'w'),\n",
        "  (10, Timestamp('2014-02-02 00:00:00', tz=None), 'w')]]"
       ]
      }
     ],
     "prompt_number": 20
    },
    {
     "cell_type": "code",
     "collapsed": false,
     "input": [
      "cluster = cluster_obj[-2]\n",
      "cluster"
     ],
     "language": "python",
     "metadata": {},
     "outputs": [
      {
       "metadata": {},
       "output_type": "pyout",
       "prompt_number": 21,
       "text": [
        "[(29, Timestamp('2014-01-10 00:00:00', tz=None), 's'),\n",
        " (25, Timestamp('2014-01-11 00:00:00', tz=None), 's'),\n",
        " (28, Timestamp('2014-01-19 00:00:00', tz=None), 's'),\n",
        " (27, Timestamp('2014-01-21 00:00:00', tz=None), 's'),\n",
        " (26, Timestamp('2014-01-24 00:00:00', tz=None), 's'),\n",
        " (30, Timestamp('2014-01-24 00:00:00', tz=None), 's')]"
       ]
      }
     ],
     "prompt_number": 21
    },
    {
     "cell_type": "code",
     "collapsed": false,
     "input": [
      "cluster = np.array(cluster[::-1])\n",
      "ids = cluster[:, 0]\n",
      "dates = cluster[:, 1]\n",
      "names = cluster[:, 2]"
     ],
     "language": "python",
     "metadata": {},
     "outputs": [],
     "prompt_number": 22
    },
    {
     "cell_type": "code",
     "collapsed": false,
     "input": [
      "gen_mean, gen_sd = 5, 1\n",
      "gen_min = timedelta((gen_mean - gen_sd), 0)\n",
      "gen_max = timedelta((gen_mean + gen_sd), 0)"
     ],
     "language": "python",
     "metadata": {},
     "outputs": [],
     "prompt_number": 23
    },
    {
     "cell_type": "code",
     "collapsed": false,
     "input": [
      "ids"
     ],
     "language": "python",
     "metadata": {},
     "outputs": [
      {
       "metadata": {},
       "output_type": "pyout",
       "prompt_number": 24,
       "text": [
        "array([30, 26, 27, 28, 25, 29], dtype=object)"
       ]
      }
     ],
     "prompt_number": 24
    },
    {
     "cell_type": "code",
     "collapsed": false,
     "input": [
      "dates"
     ],
     "language": "python",
     "metadata": {},
     "outputs": [
      {
       "metadata": {},
       "output_type": "pyout",
       "prompt_number": 36,
       "text": [
        "array([Timestamp('2014-01-24 00:00:00', tz=None),\n",
        "       Timestamp('2014-01-24 00:00:00', tz=None),\n",
        "       Timestamp('2014-01-21 00:00:00', tz=None),\n",
        "       Timestamp('2014-01-19 00:00:00', tz=None),\n",
        "       Timestamp('2014-01-11 00:00:00', tz=None),\n",
        "       Timestamp('2014-01-10 00:00:00', tz=None)], dtype=object)"
       ]
      }
     ],
     "prompt_number": 36
    },
    {
     "cell_type": "code",
     "collapsed": false,
     "input": [
      "index_node = ids[-1]\n",
      "start_nodes = []\n",
      "for date, idx in zip(dates, ids):\n",
      "    start_date = date - gen_max\n",
      "    start_node = ids[dates >= start_date][-1]\n",
      "    start_nodes.append(start_node)\n",
      "    \n",
      "    if start_node == idx"
     ],
     "language": "python",
     "metadata": {},
     "outputs": [],
     "prompt_number": 64
    },
    {
     "cell_type": "code",
     "collapsed": false,
     "input": [
      "start_nodes"
     ],
     "language": "python",
     "metadata": {},
     "outputs": [
      {
       "metadata": {},
       "output_type": "pyout",
       "prompt_number": 65,
       "text": [
        "[28, 28, 28, 28, 29, 29]"
       ]
      }
     ],
     "prompt_number": 65
    },
    {
     "cell_type": "code",
     "collapsed": false,
     "input": [
      "ids.tolist()"
     ],
     "language": "python",
     "metadata": {},
     "outputs": [
      {
       "metadata": {},
       "output_type": "pyout",
       "prompt_number": 54,
       "text": [
        "[30, 26, 27, 28, 25, 29]"
       ]
      }
     ],
     "prompt_number": 54
    },
    {
     "cell_type": "code",
     "collapsed": false,
     "input": [
      "dates.tolist()"
     ],
     "language": "python",
     "metadata": {},
     "outputs": [
      {
       "metadata": {},
       "output_type": "pyout",
       "prompt_number": 55,
       "text": [
        "[Timestamp('2014-01-24 00:00:00', tz=None),\n",
        " Timestamp('2014-01-24 00:00:00', tz=None),\n",
        " Timestamp('2014-01-21 00:00:00', tz=None),\n",
        " Timestamp('2014-01-19 00:00:00', tz=None),\n",
        " Timestamp('2014-01-11 00:00:00', tz=None),\n",
        " Timestamp('2014-01-10 00:00:00', tz=None)]"
       ]
      }
     ],
     "prompt_number": 55
    },
    {
     "cell_type": "code",
     "collapsed": false,
     "input": [
      "%load_ext autoreload\n",
      "%autoreload 2"
     ],
     "language": "python",
     "metadata": {},
     "outputs": [],
     "prompt_number": 1
    },
    {
     "cell_type": "code",
     "collapsed": false,
     "input": [
      "plt.close('all')"
     ],
     "language": "python",
     "metadata": {},
     "outputs": [],
     "prompt_number": 2
    },
    {
     "cell_type": "code",
     "collapsed": false,
     "input": [
      "from case_tree import example_data, build_graph, plotting\n",
      "\n",
      "df = example_data()\n",
      "G = build_graph(df, color='color', case_id='case_id', source='source_node', index='index_node', date='pltdate')\n"
     ],
     "language": "python",
     "metadata": {},
     "outputs": [],
     "prompt_number": 10
    },
    {
     "cell_type": "code",
     "collapsed": false,
     "input": [
      "fig, ax = plotting(G,  node_size=200)\n",
      "ax.set_title('MERS-CoV clusters')\n",
      "ax.set_ylabel('Generations')\n",
      "ax.grid(True)\n",
      "#fig.savefig('../figs/casetree.png', bbox_inches='tight')\n",
      "fig.savefig('../figs/test.png', bbox_inches='tight')\n",
      "plt.show()"
     ],
     "language": "python",
     "metadata": {},
     "outputs": [],
     "prompt_number": 11
    },
    {
     "cell_type": "code",
     "collapsed": false,
     "input": [
      "G.node[29]"
     ],
     "language": "python",
     "metadata": {},
     "outputs": [
      {
       "metadata": {},
       "output_type": "pyout",
       "prompt_number": 14,
       "text": [
        "{'color': 's',\n",
        " 'generation': 0.1,\n",
        " 'index_node': 29,\n",
        " 'new_color': array([ 0.83794491]),\n",
        " 'pltdate': 735243.0,\n",
        " 'source_node': 29,\n",
        " 'xcord': 735243.0}"
       ]
      }
     ],
     "prompt_number": 14
    },
    {
     "cell_type": "code",
     "collapsed": false,
     "input": [],
     "language": "python",
     "metadata": {},
     "outputs": []
    }
   ],
   "metadata": {}
  }
 ]
}