{
 "metadata": {
  "name": "case_tree"
 },
 "nbformat": 3,
 "nbformat_minor": 0,
 "worksheets": [
  {
   "cells": [
    {
     "cell_type": "code",
     "collapsed": false,
     "input": [
      "from __future__ import division\n",
      "import pandas as pd\n",
      "import numpy as np\n",
      "from random import choice\n",
      "import colorsys\n",
      "from itertools import cycle\n",
      "from datetime import datetime\n",
      "import matplotlib as mpl\n",
      "import matplotlib.pyplot as plt\n",
      "import networkx as nx"
     ],
     "language": "python",
     "metadata": {},
     "outputs": [],
     "prompt_number": 1120
    },
    {
     "cell_type": "markdown",
     "metadata": {},
     "source": [
      "Create example data. For a realistic line listing, see mers_data.csv in the repo."
     ]
    },
    {
     "cell_type": "code",
     "collapsed": false,
     "input": [
      "def example_data():\n",
      "    epi = pd.load('./network.pkl')\n",
      "    epi.time = pd.to_datetime(epi.time)\n",
      "    epi['pltdate'] = [mpl.dates.date2num(i) for i in epi.time]\n",
      "\n",
      "    return epi"
     ],
     "language": "python",
     "metadata": {},
     "outputs": [],
     "prompt_number": 1121
    },
    {
     "cell_type": "markdown",
     "metadata": {},
     "source": [
      "Build a graph from the case id and the source id."
     ]
    },
    {
     "cell_type": "code",
     "collapsed": false,
     "input": [
      "def build_graph(df, case_id, color, index, source, date):\n",
      "    G = nx.DiGraph()\n",
      "    G.add_nodes_from(df[case_id])\n",
      "    \n",
      "    edgelist = [pair for pair in df[[source]].dropna().itertuples()]\n",
      "    G.add_edges_from(edgelist)\n",
      "    nx.set_node_attributes(G, date, df[date].to_dict())\n",
      "    nx.set_node_attributes(G, source, df[source].to_dict())\n",
      "    nx.set_node_attributes(G, color, df[color].to_dict())\n",
      "    \n",
      "    G = nx.DiGraph.reverse(G)\n",
      "    \n",
      "    return G"
     ],
     "language": "python",
     "metadata": {},
     "outputs": [],
     "prompt_number": 1122
    },
    {
     "cell_type": "code",
     "collapsed": false,
     "input": [
      "def plotting(G, df, node_size='on'):\n",
      "    fig = plt.figure()\n",
      "    fig.set_size_inches(8, 5)\n",
      "    ax = fig.add_axes([1, 1, 1, 1])\n",
      "    ax.xaxis_date()\n",
      "    ax.set_aspect('auto')\n",
      "\n",
      "    axprop =  plt.axis()\n",
      "    plt.ylim(-0.5, 6)\n",
      "    \n",
      "    #coords = nx.spring_layout(G, pos=_layout(G, axprop))\n",
      "    coords = nx.graphviz_layout(G, prog='dot')\n",
      "    mycoords = _layout(G, axprop)\n",
      "    finalcoords = {}\n",
      "    for key, value in mycoords.iteritems():\n",
      "        yc = value[1]\n",
      "        xc = value[0]\n",
      "        newx = xc #+ (coords[key][0]*random.random(1)[0])\n",
      "        finalcoords[key] = (newx, yc)\n",
      "     \n",
      "    values = colors(G, 'color')\n",
      "    plt.legend(values)    \n",
      "    \n",
      "    if node_size == 'on':\n",
      "        node_size = 200\n",
      "    elif node_size == 'off':\n",
      "        node_size = 0\n",
      "        #labels=F\n",
      "        \n",
      "    nx.draw_networkx(G, with_labels=False, pos=finalcoords, node_color = values, node_size=node_size, alpha=.4)\n",
      "    fig.autofmt_xdate()\n",
      "    "
     ],
     "language": "python",
     "metadata": {},
     "outputs": [],
     "prompt_number": 1123
    },
    {
     "cell_type": "code",
     "collapsed": false,
     "input": [
      "def colors(G, color):\n",
      "    \n",
      "    vals = []\n",
      "    for node in G.nodes():\n",
      "        vals.append(G.node[node]['color'])\n",
      "            \n",
      "    possibilities = [i for i in numpy.random.rand(len(vals),1)]\n",
      "    val_map = {}\n",
      "    for node in G.nodes():\n",
      "        pick = choice(possibilities)\n",
      "        val_map[G.node[node]['color']] = pick        \n",
      "        possibilities.remove(pick)\n",
      "\n",
      "    values = []\n",
      "    for node in G.nodes():\n",
      "        color = G.node[node]['color']\n",
      "        G.node[node]['new_color'] = val_map[color]\n",
      "        values.append(G.node[node]['new_color'])\n",
      "    \n",
      "    return values"
     ],
     "language": "python",
     "metadata": {},
     "outputs": [],
     "prompt_number": 1124
    },
    {
     "cell_type": "markdown",
     "metadata": {},
     "source": [
      "Specify the x, y coordinates of the node."
     ]
    },
    {
     "cell_type": "code",
     "collapsed": false,
     "input": [
      "def generations(G, node):\n",
      "    levels = 0\n",
      "    \n",
      "    while node != G.node[node]['source_node']:\n",
      "        node = G.node[node]['source_node']\n",
      "        levels += 1\n",
      "        \n",
      "    return levels"
     ],
     "language": "python",
     "metadata": {},
     "outputs": [],
     "prompt_number": 1125
    },
    {
     "cell_type": "code",
     "collapsed": false,
     "input": [
      "def _layout(G, axprop):\n",
      "    \n",
      "    positions = []\n",
      "    \n",
      "    for i in G.nodes():\n",
      "        if np.isnan(G.node[i]['source_node']) == True:\n",
      "            lst = [G.node[i]['date'], 0.1]\n",
      "            \n",
      "        else:\n",
      "            degree = G.out_degree(i)/90\n",
      "            ix = G.node[i]['source_node']\n",
      "            \n",
      "            ycord = generations(G, i)\n",
      "            xcord = G.node[ix]['pltdate']\n",
      "            xrng = axprop[1] - axprop[0]\n",
      "            jitter = random.uniform(-1 * xrng/len(G.nodes()), xrng/len(G.nodes()))\n",
      "            \n",
      "            if ycord > 1:\n",
      "                try:\n",
      "                    xcord = G.node[ix]['xcord']\n",
      "                except:\n",
      "                    xcord = xcord + jitter\n",
      "            else:\n",
      "                if [xcord, ycord] in positions:\n",
      "                    \n",
      "                    xcord = xcord + jitter\n",
      "                    ycord = ycord + random.uniform(-.2, .2, 1)\n",
      "          \n",
      "            lst = [xcord, ycord]\n",
      "        \n",
      "        G.node[i]['xcord'] = xcord\n",
      "        positions.append(lst)\n",
      "\n",
      "    return dict(zip(G, np.array(positions)))"
     ],
     "language": "python",
     "metadata": {},
     "outputs": [],
     "prompt_number": 1126
    },
    {
     "cell_type": "code",
     "collapsed": false,
     "input": [
      "df = example_data()\n",
      "G = build_graph(df, color='color', case_id='case_id', source='source_node', index='index_node', date='pltdate')\n",
      "testplot = plotting(G, df, node_size='off')\n",
      "plt.title('MERS-CoV clusters')\n",
      "plt.ylabel('Generations')\n",
      "plt.savefig('/Users/cmrivers/Desktop/casetree.png', bbox_inches='tight')"
     ],
     "language": "python",
     "metadata": {},
     "outputs": [
      {
       "output_type": "stream",
       "stream": "stdout",
       "text": [
        "Warning: Dead is not a known color.\n",
        "Warning: Mild is not a known color.\n",
        "Warning: Alive is not a known color.\n",
        "Warning: Critical is not a known color.\n",
        "Warning: Recovered is not a known color.\n",
        "Warning: Asymptomatic is not a known color.\n",
        "Warning: nan is not a known color.\n",
        "\n"
       ]
      },
      {
       "output_type": "display_data",
       "png": "[encoded data removed]"
      }
     ],
     "prompt_number": 1127
    },
    {
     "cell_type": "code",
     "collapsed": false,
     "input": [],
     "language": "python",
     "metadata": {},
     "outputs": [],
     "prompt_number": 1127
    }
   ],
   "metadata": {}
  }
 ]
}