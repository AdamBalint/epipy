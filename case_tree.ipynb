{
 "metadata": {
  "name": "case_tree"
 },
 "nbformat": 3,
 "nbformat_minor": 0,
 "worksheets": [
  {
   "cells": [
    {
     "cell_type": "code",
     "collapsed": false,
     "input": [
      "from __future__ import division\n",
      "import pandas as pd\n",
      "import numpy as np\n",
      "from random import choice\n",
      "from itertools import cycle\n",
      "import datetime as dt\n",
      "import networkx as nx"
     ],
     "language": "python",
     "metadata": {},
     "outputs": [],
     "prompt_number": 597
    },
    {
     "cell_type": "markdown",
     "metadata": {},
     "source": [
      "Create example data. For a realistic line listing, see mers_data.csv in the repo."
     ]
    },
    {
     "cell_type": "code",
     "collapsed": false,
     "input": [
      "def example_data():\n",
      "    df = pd.DataFrame([1, 2, 3, 4, 5, 6], columns=['id'])\n",
      "    df.index = df.id\n",
      "    df['date'] = ['01-10-2013', '01-11-2013', '01-14-2013', '02-12-2013', '01-13-2013', '03-13-2013']\n",
      "    \n",
      "    dates = [datetime.datetime.strptime(i, '%m-%d-%Y') for i in df.date]\n",
      "    df['pltdate'] = [matplotlib.dates.date2num(i) for i in dates]\n",
      "    \n",
      "    df['index_node'] = [np.nan, 1, 1, 1, 1, np.nan]\n",
      "    df['source_node'] = [np.nan, 1, 1, 3, 3, np.nan]\n",
      "    return df"
     ],
     "language": "python",
     "metadata": {},
     "outputs": [],
     "prompt_number": 598
    },
    {
     "cell_type": "markdown",
     "metadata": {},
     "source": [
      "Build a graph from the case id and the source id."
     ]
    },
    {
     "cell_type": "code",
     "collapsed": false,
     "input": [
      "def build_graph(df):\n",
      "    G = nx.DiGraph()\n",
      "    G.add_nodes_from(df['id'])\n",
      "    \n",
      "    edgelist = [(item[5], item[0]) for item in df.dropna().itertuples()]\n",
      "    G.add_edges_from(edgelist)\n",
      "    nx.set_node_attributes(G, 'date', df['pltdate'].to_dict())\n",
      "    nx.set_node_attributes(G, 'source', df['source_node'].to_dict())\n",
      "    return G"
     ],
     "language": "python",
     "metadata": {},
     "outputs": [],
     "prompt_number": 599
    },
    {
     "cell_type": "code",
     "collapsed": false,
     "input": [
      "def plotting(G, df):\n",
      "    fig = plt.figure()\n",
      "    ax = fig.add_axes([1, 1, 1, 1])\n",
      "    ax.xaxis_date()\n",
      "    axprop =  plt.axis()\n",
      "    plt.ylim(0, df.source_node.max()*1.2)\n",
      "    nx.draw_networkx(G, pos=_layout(G, axprop))\n",
      "    \n",
      "    return fig"
     ],
     "language": "python",
     "metadata": {},
     "outputs": [],
     "prompt_number": 600
    },
    {
     "cell_type": "markdown",
     "metadata": {},
     "source": [
      "Specify the x, y coordinates of the node."
     ]
    },
    {
     "cell_type": "code",
     "collapsed": false,
     "input": [
      "def generations(G, node):\n",
      "    levels = -1\n",
      "    \n",
      "    while node > 0 and levels <50:\n",
      "        node = G.node[node]['source']\n",
      "        levels += 1\n",
      "        \n",
      "    return levels"
     ],
     "language": "python",
     "metadata": {},
     "outputs": [],
     "prompt_number": 601
    },
    {
     "cell_type": "code",
     "collapsed": false,
     "input": [
      "def _spacing(xcord, ycord, axprop):\n",
      "    xrnge = axprop[1] - axprop[0]\n",
      "    xout = xcord + xrnge/1000 * choice([-1, 1])\n",
      "\n",
      "    lst = [xout, ycord]\n",
      "    \n",
      "    return lst"
     ],
     "language": "python",
     "metadata": {},
     "outputs": [],
     "prompt_number": 602
    },
    {
     "cell_type": "code",
     "collapsed": false,
     "input": [
      "def _layout(G, axprop):\n",
      "    \n",
      "    positions = []\n",
      "    \n",
      "    for i in G.nodes():\n",
      "        if isnan(G.node[i]['source']) == True:\n",
      "            lst = [G.node[i]['date'], 0.1]\n",
      "            \n",
      "        else:\n",
      "            degree = G.out_degree(i)/90\n",
      "            \n",
      "            ix = G.node[i]['source']\n",
      "            xcord = G.node[ix]['date']\n",
      "            ycord = generations(G, i)\n",
      "            \n",
      "            if lst in positions:\n",
      "                lst = _spacing(xcord, ycord, axprop)\n",
      "                if lst in positions:\n",
      "                    lst = [lst[0]-8, lst[1]]\n",
      "            else: \n",
      "                lst = [xcord, ycord]\n",
      "                \n",
      "        positions.append(lst)\n",
      "        \n",
      "    return dict(zip(G, np.array(positions)))"
     ],
     "language": "python",
     "metadata": {},
     "outputs": [],
     "prompt_number": 603
    },
    {
     "cell_type": "code",
     "collapsed": false,
     "input": [
      "df = example_data()\n",
      "G = build_graph(df)\n",
      "testplot = plotting(G, df)"
     ],
     "language": "python",
     "metadata": {},
     "outputs": [
      {
       "output_type": "display_data",
       "png": "[encoded data removed]"
      }
     ],
     "prompt_number": 604
    }
   ],
   "metadata": {}
  }
 ]
}