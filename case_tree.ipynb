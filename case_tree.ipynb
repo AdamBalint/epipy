{
 "metadata": {
  "name": "case_tree"
 },
 "nbformat": 3,
 "nbformat_minor": 0,
 "worksheets": [
  {
   "cells": [
    {
     "cell_type": "code",
     "collapsed": false,
     "input": [
      "from __future__ import division\n",
      "import pandas as pd\n",
      "import numpy as np\n",
      "from random import choice\n",
      "from itertools import cycle\n",
      "import datetime as dt\n",
      "import networkx as nx"
     ],
     "language": "python",
     "metadata": {},
     "outputs": [],
     "prompt_number": 136
    },
    {
     "cell_type": "markdown",
     "metadata": {},
     "source": [
      "Create example data. For a realistic line listing, see mers_data.csv in the repo."
     ]
    },
    {
     "cell_type": "code",
     "collapsed": false,
     "input": [
      "def example_data():\n",
      "    df = pd.DataFrame([1, 2, 3, 4, 5, 6], columns=['id'])\n",
      "    df.index = df.id\n",
      "    df['date'] = ['01-10-2013', '01-11-2013', '01-14-2013', '02-12-2013', '01-13-2013', '03-13-2013']\n",
      "    \n",
      "    dates = [datetime.datetime.strptime(i, '%m-%d-%Y') for i in df.date]\n",
      "    df['pltdate'] = [matplotlib.dates.date2num(i) for i in dates]\n",
      "    \n",
      "    df['index_node'] = [np.nan, 1, 1, 1, 1, np.nan]\n",
      "    df['source_node'] = [np.nan, 1, 1, 3, 3, np.nan]\n",
      "    return df"
     ],
     "language": "python",
     "metadata": {},
     "outputs": [],
     "prompt_number": 137
    },
    {
     "cell_type": "markdown",
     "metadata": {},
     "source": [
      "Build a graph from the case id and the source id."
     ]
    },
    {
     "cell_type": "code",
     "collapsed": false,
     "input": [
      "df"
     ],
     "language": "python",
     "metadata": {},
     "outputs": [
      {
       "html": [
        "<div style=\"max-height:1000px;max-width:1500px;overflow:auto;\">\n",
        "<table border=\"1\" class=\"dataframe\">\n",
        "  <thead>\n",
        "    <tr style=\"text-align: right;\">\n",
        "      <th></th>\n",
        "      <th>id</th>\n",
        "      <th>date</th>\n",
        "      <th>pltdate</th>\n",
        "      <th>index_node</th>\n",
        "      <th>source_node</th>\n",
        "    </tr>\n",
        "    <tr>\n",
        "      <th>id</th>\n",
        "      <th></th>\n",
        "      <th></th>\n",
        "      <th></th>\n",
        "      <th></th>\n",
        "      <th></th>\n",
        "    </tr>\n",
        "  </thead>\n",
        "  <tbody>\n",
        "    <tr>\n",
        "      <th>1</th>\n",
        "      <td> 1</td>\n",
        "      <td> 01-10-2013</td>\n",
        "      <td> 734878</td>\n",
        "      <td>NaN</td>\n",
        "      <td>NaN</td>\n",
        "    </tr>\n",
        "    <tr>\n",
        "      <th>2</th>\n",
        "      <td> 2</td>\n",
        "      <td> 01-11-2013</td>\n",
        "      <td> 734879</td>\n",
        "      <td>  1</td>\n",
        "      <td>  1</td>\n",
        "    </tr>\n",
        "    <tr>\n",
        "      <th>3</th>\n",
        "      <td> 3</td>\n",
        "      <td> 01-14-2013</td>\n",
        "      <td> 734882</td>\n",
        "      <td>  1</td>\n",
        "      <td>  1</td>\n",
        "    </tr>\n",
        "    <tr>\n",
        "      <th>4</th>\n",
        "      <td> 4</td>\n",
        "      <td> 02-12-2013</td>\n",
        "      <td> 734911</td>\n",
        "      <td>  1</td>\n",
        "      <td>  3</td>\n",
        "    </tr>\n",
        "    <tr>\n",
        "      <th>5</th>\n",
        "      <td> 5</td>\n",
        "      <td> 01-13-2013</td>\n",
        "      <td> 734881</td>\n",
        "      <td>  1</td>\n",
        "      <td>  3</td>\n",
        "    </tr>\n",
        "    <tr>\n",
        "      <th>6</th>\n",
        "      <td> 6</td>\n",
        "      <td> 03-13-2013</td>\n",
        "      <td> 734940</td>\n",
        "      <td>NaN</td>\n",
        "      <td>NaN</td>\n",
        "    </tr>\n",
        "  </tbody>\n",
        "</table>\n",
        "</div>"
       ],
       "output_type": "pyout",
       "prompt_number": 138,
       "text": [
        "    id        date  pltdate  index_node  source_node\n",
        "id                                                  \n",
        "1    1  01-10-2013   734878         NaN          NaN\n",
        "2    2  01-11-2013   734879           1            1\n",
        "3    3  01-14-2013   734882           1            1\n",
        "4    4  02-12-2013   734911           1            3\n",
        "5    5  01-13-2013   734881           1            3\n",
        "6    6  03-13-2013   734940         NaN          NaN"
       ]
      }
     ],
     "prompt_number": 138
    },
    {
     "cell_type": "code",
     "collapsed": false,
     "input": [
      "[i for i in df[['source_node']].dropna().itertuples()]"
     ],
     "language": "python",
     "metadata": {},
     "outputs": [
      {
       "output_type": "pyout",
       "prompt_number": 139,
       "text": [
        "[(2, 1.0), (3, 1.0), (4, 3.0), (5, 3.0)]"
       ]
      }
     ],
     "prompt_number": 139
    },
    {
     "cell_type": "code",
     "collapsed": false,
     "input": [
      "def build_graph(df, index, source, date):\n",
      "    G = nx.DiGraph()\n",
      "    G.add_nodes_from(df['id'])\n",
      "    \n",
      "    edgelist = [pair for pair in df[[source]].dropna().itertuples()]\n",
      "    G.add_edges_from(edgelist)\n",
      "    nx.set_node_attributes(G, 'date', df[date].to_dict())\n",
      "    nx.set_node_attributes(G, 'source', df[source].to_dict())\n",
      "    return G"
     ],
     "language": "python",
     "metadata": {},
     "outputs": [],
     "prompt_number": 140
    },
    {
     "cell_type": "code",
     "collapsed": false,
     "input": [
      "G.nodes(1)"
     ],
     "language": "python",
     "metadata": {},
     "outputs": [
      {
       "output_type": "pyout",
       "prompt_number": 141,
       "text": [
        "[(1, {'date': 734878.0, 'source': nan}),\n",
        " (2, {'date': 734879.0, 'source': 1.0}),\n",
        " (3, {'date': 734882.0, 'source': 1.0}),\n",
        " (4, {'date': 734911.0, 'source': 3.0}),\n",
        " (5, {'date': 734881.0, 'source': 3.0}),\n",
        " (6, {'date': 734940.0, 'source': nan})]"
       ]
      }
     ],
     "prompt_number": 141
    },
    {
     "cell_type": "code",
     "collapsed": false,
     "input": [
      "def plotting(G, df):\n",
      "    fig = plt.figure()\n",
      "    ax = fig.add_axes([1, 1, 1, 1])\n",
      "    ax.xaxis_date()\n",
      "    axprop =  plt.axis()\n",
      "    plt.ylim(0, df.source_node.max()*1.2)\n",
      "    nx.draw_networkx(G, pos=_layout(G, axprop))\n",
      "    \n",
      "    return fig"
     ],
     "language": "python",
     "metadata": {},
     "outputs": [],
     "prompt_number": 142
    },
    {
     "cell_type": "markdown",
     "metadata": {},
     "source": [
      "Specify the x, y coordinates of the node."
     ]
    },
    {
     "cell_type": "code",
     "collapsed": false,
     "input": [
      "def generations(G, node):\n",
      "    levels = -1\n",
      "    \n",
      "    while node > 0 and levels <50:\n",
      "        node = G.node[node]['source']\n",
      "        levels += 1\n",
      "        \n",
      "    return levels"
     ],
     "language": "python",
     "metadata": {},
     "outputs": [],
     "prompt_number": 143
    },
    {
     "cell_type": "code",
     "collapsed": false,
     "input": [
      "def _spacing(xcord, ycord, axprop):\n",
      "    xrnge = axprop[1] - axprop[0]\n",
      "    xout = xcord + xrnge/1000 * choice([-1, 1])\n",
      "\n",
      "    lst = [xout, ycord]\n",
      "    \n",
      "    return lst"
     ],
     "language": "python",
     "metadata": {},
     "outputs": [],
     "prompt_number": 144
    },
    {
     "cell_type": "code",
     "collapsed": false,
     "input": [
      "def _layout(G, axprop):\n",
      "    \n",
      "    positions = []\n",
      "    \n",
      "    for i in G.nodes():\n",
      "        if isnan(G.node[i]['source']) == True:\n",
      "            lst = [G.node[i]['date'], 0.1]\n",
      "            \n",
      "        else:\n",
      "            degree = G.out_degree(i)/90\n",
      "            \n",
      "            ix = G.node[i]['source']\n",
      "            xcord = G.node[ix]['date']\n",
      "            ycord = generations(G, i)\n",
      "            \n",
      "            if lst in positions:\n",
      "                lst = _spacing(xcord, ycord, axprop)\n",
      "                if lst in positions:\n",
      "                    lst = [lst[0]-8, lst[1]]\n",
      "            else: \n",
      "                lst = [xcord, ycord]\n",
      "                \n",
      "        positions.append(lst)\n",
      "        \n",
      "    return dict(zip(G, np.array(positions)))"
     ],
     "language": "python",
     "metadata": {},
     "outputs": [],
     "prompt_number": 145
    },
    {
     "cell_type": "code",
     "collapsed": false,
     "input": [
      "df = example_data()\n",
      "G = build_graph(df, source='source_node', index='index_node', date='pltdate')\n",
      "testplot = plotting(G, df)"
     ],
     "language": "python",
     "metadata": {},
     "outputs": [
      {
       "output_type": "display_data",
       "png": "[encoded data removed]"
      }
     ],
     "prompt_number": 146
    },
    {
     "cell_type": "code",
     "collapsed": false,
     "input": [],
     "language": "python",
     "metadata": {},
     "outputs": [],
     "prompt_number": 146
    }
   ],
   "metadata": {}
  }
 ]
}